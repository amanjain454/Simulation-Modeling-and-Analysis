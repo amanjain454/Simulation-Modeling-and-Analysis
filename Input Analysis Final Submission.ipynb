{
 "cells": [
  {
   "cell_type": "markdown",
   "metadata": {},
   "source": [
    "<center> <b> Submitted by Group 3 </b>\n",
    "<br>Aman Jain (aj644)\n",
    "<br>Murali TS (mt788)\n",
    "<br>Vidhisha Nakhwa (vn83)\n",
    "<br>Sukrut Nigwekar (sn639)</center>"
   ]
  },
  {
   "cell_type": "markdown",
   "metadata": {},
   "source": [
    "## Q1 "
   ]
  },
  {
   "cell_type": "markdown",
   "metadata": {},
   "source": [
    "\"Make sure that every team member has read the project description before starting this assignment\"- <b>Done</b>"
   ]
  },
  {
   "cell_type": "markdown",
   "metadata": {},
   "source": [
    "## Q2"
   ]
  },
  {
   "cell_type": "code",
   "execution_count": 60,
   "metadata": {},
   "outputs": [],
   "source": [
    "import numpy as np\n",
    "import matplotlib.pyplot as plt\n",
    "import math\n",
    "import scipy\n",
    "import scipy.stats as st\n",
    "import pandas as pd \n",
    "from numpy import nan\n",
    "import scipy.stats as sc\n",
    "import scipy.stats as st"
   ]
  },
  {
   "cell_type": "code",
   "execution_count": 61,
   "metadata": {},
   "outputs": [
    {
     "name": "stdout",
     "output_type": "stream",
     "text": [
      "(7172, 7)\n"
     ]
    },
    {
     "data": {
      "text/html": [
       "<div>\n",
       "<style scoped>\n",
       "    .dataframe tbody tr th:only-of-type {\n",
       "        vertical-align: middle;\n",
       "    }\n",
       "\n",
       "    .dataframe tbody tr th {\n",
       "        vertical-align: top;\n",
       "    }\n",
       "\n",
       "    .dataframe thead th {\n",
       "        text-align: right;\n",
       "    }\n",
       "</style>\n",
       "<table border=\"1\" class=\"dataframe\">\n",
       "  <thead>\n",
       "    <tr style=\"text-align: right;\">\n",
       "      <th></th>\n",
       "      <th>Request no</th>\n",
       "      <th>Day</th>\n",
       "      <th>Time of day</th>\n",
       "      <th>Request location</th>\n",
       "      <th>Initial diagnose time</th>\n",
       "      <th>Needs Replacement?</th>\n",
       "      <th>On-site repair time</th>\n",
       "    </tr>\n",
       "  </thead>\n",
       "  <tbody>\n",
       "    <tr>\n",
       "      <th>0</th>\n",
       "      <td>1</td>\n",
       "      <td>1</td>\n",
       "      <td>0.239113</td>\n",
       "      <td>BC_10</td>\n",
       "      <td>12.633020</td>\n",
       "      <td>NaN</td>\n",
       "      <td>22.125290</td>\n",
       "    </tr>\n",
       "    <tr>\n",
       "      <th>1</th>\n",
       "      <td>2</td>\n",
       "      <td>1</td>\n",
       "      <td>1.139550</td>\n",
       "      <td>BC_1</td>\n",
       "      <td>19.486501</td>\n",
       "      <td>yes</td>\n",
       "      <td>NaN</td>\n",
       "    </tr>\n",
       "    <tr>\n",
       "      <th>2</th>\n",
       "      <td>3</td>\n",
       "      <td>1</td>\n",
       "      <td>1.309831</td>\n",
       "      <td>BC_5</td>\n",
       "      <td>16.161550</td>\n",
       "      <td>NaN</td>\n",
       "      <td>7.349665</td>\n",
       "    </tr>\n",
       "    <tr>\n",
       "      <th>3</th>\n",
       "      <td>4</td>\n",
       "      <td>1</td>\n",
       "      <td>1.458689</td>\n",
       "      <td>BC_4</td>\n",
       "      <td>17.991248</td>\n",
       "      <td>NaN</td>\n",
       "      <td>31.835509</td>\n",
       "    </tr>\n",
       "    <tr>\n",
       "      <th>4</th>\n",
       "      <td>5</td>\n",
       "      <td>1</td>\n",
       "      <td>1.754376</td>\n",
       "      <td>BC_5</td>\n",
       "      <td>16.736394</td>\n",
       "      <td>NaN</td>\n",
       "      <td>10.733933</td>\n",
       "    </tr>\n",
       "  </tbody>\n",
       "</table>\n",
       "</div>"
      ],
      "text/plain": [
       "   Request no  Day  Time of day Request location  Initial diagnose time  \\\n",
       "0           1    1     0.239113            BC_10              12.633020   \n",
       "1           2    1     1.139550             BC_1              19.486501   \n",
       "2           3    1     1.309831             BC_5              16.161550   \n",
       "3           4    1     1.458689             BC_4              17.991248   \n",
       "4           5    1     1.754376             BC_5              16.736394   \n",
       "\n",
       "  Needs Replacement?  On-site repair time  \n",
       "0                NaN            22.125290  \n",
       "1                yes                  NaN  \n",
       "2                NaN             7.349665  \n",
       "3                NaN            31.835509  \n",
       "4                NaN            10.733933  "
      ]
     },
     "execution_count": 61,
     "metadata": {},
     "output_type": "execute_result"
    }
   ],
   "source": [
    "data = pd.read_csv(\"TonerItDown.csv\")\n",
    "print(np.shape(data))\n",
    "data.head(5)"
   ]
  },
  {
   "cell_type": "code",
   "execution_count": 62,
   "metadata": {},
   "outputs": [],
   "source": [
    "# function to calculate 95% CI of an array. \n",
    "def CI_95(X):\n",
    "    mean = np.mean(X)\n",
    "    LB = np.mean(X) - 1.96*np.std(X,ddof = 1)/np.sqrt(np.size(X))\n",
    "    UB = np.mean(X) + 1.96*np.std(X,ddof = 1)/np.sqrt(np.size(X))\n",
    "    return mean, LB, UB"
   ]
  },
  {
   "cell_type": "code",
   "execution_count": 63,
   "metadata": {},
   "outputs": [
    {
     "name": "stdout",
     "output_type": "stream",
     "text": [
      "(1294, 7)\n",
      "(1294, 7)\n"
     ]
    }
   ],
   "source": [
    "print(np.shape(data[data[\"Needs Replacement?\"] == \"yes\"]))\n",
    "print(np.shape(data[np.isnan(data[\"On-site repair time\"])]))"
   ]
  },
  {
   "cell_type": "markdown",
   "metadata": {},
   "source": [
    "<br>As can be seen above, all those requests that marks need replacements have no On-site repair time available. <br>Hence we can assume that whereever On-site rapair time is nan, there we need off-site repair. \n",
    "<br>This also assumes that every offsite replacement needs repair. \n",
    "<br>We are not considering impact of hour of request on on site/off site repair decision. \n",
    "<br>There might be cases where requests are place at office closure time hence offsite rapair was done, even though on site repair would have been possible. "
   ]
  },
  {
   "cell_type": "code",
   "execution_count": 64,
   "metadata": {},
   "outputs": [
    {
     "name": "stdout",
     "output_type": "stream",
     "text": [
      "fraction of customer requests that require off-site repair is  0.1804238706079197\n",
      "95% CI range is  0.17152350476732442 0.18932423644851498\n"
     ]
    }
   ],
   "source": [
    "Offsite_repair = np.isnan(data[\"On-site repair time\"])*1\n",
    "mean, LB, UB = CI_95(Offsite_repair)\n",
    "print(\"fraction of customer requests that require off-site repair is \", mean)\n",
    "print(\"95% CI range is \", LB,UB)"
   ]
  },
  {
   "cell_type": "markdown",
   "metadata": {},
   "source": [
    "<br> <b> fraction of customer requests that require off-site repair is  0.18\n",
    "<br> 95% CI range is  (0.17152, 0.1893) </b>"
   ]
  },
  {
   "cell_type": "markdown",
   "metadata": {},
   "source": [
    "## Q3"
   ]
  },
  {
   "cell_type": "code",
   "execution_count": 65,
   "metadata": {},
   "outputs": [
    {
     "data": {
      "text/plain": [
       "0       22.125290\n",
       "2        7.349665\n",
       "3       31.835509\n",
       "4       10.733933\n",
       "5       17.075570\n",
       "6       35.068595\n",
       "7       37.308511\n",
       "8       39.839388\n",
       "9       33.003310\n",
       "12      60.148816\n",
       "13       8.966096\n",
       "14      14.912936\n",
       "15      15.048912\n",
       "16      20.259774\n",
       "17      20.684003\n",
       "18      20.445788\n",
       "19      27.010334\n",
       "21      24.119693\n",
       "22      26.962708\n",
       "23      43.140592\n",
       "25      31.767042\n",
       "26      33.365783\n",
       "27      33.361201\n",
       "28      28.286649\n",
       "29       6.430361\n",
       "30      11.789026\n",
       "31       6.543758\n",
       "32      16.149842\n",
       "33      39.471514\n",
       "34      35.390860\n",
       "          ...    \n",
       "7142    48.139317\n",
       "7143    26.597868\n",
       "7144     7.611165\n",
       "7145    11.502652\n",
       "7146    23.033082\n",
       "7147    22.864028\n",
       "7148    22.489458\n",
       "7149    26.950339\n",
       "7150    33.695999\n",
       "7151    43.063678\n",
       "7152    32.248519\n",
       "7153    41.778819\n",
       "7154    20.293617\n",
       "7155    44.038762\n",
       "7156    14.096924\n",
       "7157     8.870955\n",
       "7158    24.957760\n",
       "7159    27.968556\n",
       "7160    19.889866\n",
       "7161     3.440138\n",
       "7162     7.941069\n",
       "7163     8.403874\n",
       "7164    42.663299\n",
       "7165    32.908809\n",
       "7166    35.781499\n",
       "7167    32.418479\n",
       "7168    20.738583\n",
       "7169    14.195968\n",
       "7170    54.224003\n",
       "7171     8.855825\n",
       "Name: On-site repair time, Length: 5878, dtype: float64"
      ]
     },
     "execution_count": 65,
     "metadata": {},
     "output_type": "execute_result"
    }
   ],
   "source": [
    "#removing nan\n",
    "Onsite_repair_time = data[(data[\"On-site repair time\"] >= 0)][\"On-site repair time\"]\n",
    "Onsite_repair_time"
   ]
  },
  {
   "cell_type": "code",
   "execution_count": 66,
   "metadata": {},
   "outputs": [
    {
     "data": {
      "text/plain": [
       "(array([ 454., 1189., 1407., 1183.,  907.,  426.,  213.,   76.,   15.,\n",
       "           8.]),\n",
       " array([ 0.16205745,  7.7866848 , 15.41131216, 23.03593951, 30.66056686,\n",
       "        38.28519422, 45.90982157, 53.53444892, 61.15907627, 68.78370363,\n",
       "        76.40833098]),\n",
       " <a list of 10 Patch objects>)"
      ]
     },
     "execution_count": 66,
     "metadata": {},
     "output_type": "execute_result"
    },
    {
     "data": {
      "image/png": "[encoded data removed]",
      "text/plain": [
       "<Figure size 432x288 with 1 Axes>"
      ]
     },
     "metadata": {
      "needs_background": "light"
     },
     "output_type": "display_data"
    }
   ],
   "source": [
    "plt.hist(Onsite_repair_time)"
   ]
  },
  {
   "cell_type": "markdown",
   "metadata": {},
   "source": [
    "<b>Prima facie from the histogram following distributions looks worth exploring: Normal, Beta, Raleigh, Gamma</b>"
   ]
  },
  {
   "cell_type": "code",
   "execution_count": 67,
   "metadata": {},
   "outputs": [
    {
     "data": {
      "image/png": "[encoded data removed]",
      "text/plain": [
       "<Figure size 432x288 with 1 Axes>"
      ]
     },
     "metadata": {
      "needs_background": "light"
     },
     "output_type": "display_data"
    }
   ],
   "source": [
    "## Norm\n",
    "\n",
    "loc,scale = sc.norm.fit(Onsite_repair_time)\n",
    "x = np.sort(Onsite_repair_time)\n",
    "plt.hist(x,density = 1)\n",
    "u = np.arange(0,80,80/np.size(x))\n",
    "fx = sc.norm.pdf(u,loc,scale)\n",
    "plt.plot(x, fx);"
   ]
  },
  {
   "cell_type": "code",
   "execution_count": 68,
   "metadata": {},
   "outputs": [
    {
     "data": {
      "text/plain": [
       "KstestResult(statistic=0.04893708722810736, pvalue=1.1858345823398563e-12)"
      ]
     },
     "execution_count": 68,
     "metadata": {},
     "output_type": "execute_result"
    },
    {
     "data": {
      "image/png": "[encoded data removed]",
      "text/plain": [
       "<Figure size 432x288 with 1 Axes>"
      ]
     },
     "metadata": {
      "needs_background": "light"
     },
     "output_type": "display_data"
    }
   ],
   "source": [
    "##Quantiles of distribution\n",
    "n = np.size(x)\n",
    "u = (range(1,n+1) - 0.5*np.ones(n))/n\n",
    "Dis = sc.norm.ppf(u,loc,scale)\n",
    "plt.scatter(x,Dis)\n",
    "plt.plot([0,80],[0,80],c='r')\n",
    "\n",
    "sc.kstest(x,'norm',args = (loc,scale)) # if pval > 0.05 fail to reject null hypothesis"
   ]
  },
  {
   "cell_type": "code",
   "execution_count": 69,
   "metadata": {},
   "outputs": [
    {
     "name": "stdout",
     "output_type": "stream",
     "text": [
      "2.617986716241127 7.461801823981 -0.46574608609621293 93.45180392115793\n"
     ]
    },
    {
     "data": {
      "text/plain": [
       "[<matplotlib.lines.Line2D at 0x1a1f634390>]"
      ]
     },
     "execution_count": 69,
     "metadata": {},
     "output_type": "execute_result"
    },
    {
     "data": {
      "image/png": "[encoded data removed]",
      "text/plain": [
       "<Figure size 432x288 with 1 Axes>"
      ]
     },
     "metadata": {
      "needs_background": "light"
     },
     "output_type": "display_data"
    }
   ],
   "source": [
    "## Beta\n",
    "\n",
    "a,b,loc,scale = sc.beta.fit(Onsite_repair_time)\n",
    "print(a,b,loc,scale)\n",
    "\n",
    "x = np.sort(Onsite_repair_time)\n",
    "plt.hist(x,density = 1)\n",
    "u = np.arange(0,80,80/n)\n",
    "fx = sc.beta.pdf(u,a,b,loc,scale)\n",
    "plt.plot(x, fx)"
   ]
  },
  {
   "cell_type": "code",
   "execution_count": 70,
   "metadata": {},
   "outputs": [
    {
     "data": {
      "text/plain": [
       "KstestResult(statistic=0.009315652385251283, pvalue=0.687462279791315)"
      ]
     },
     "execution_count": 70,
     "metadata": {},
     "output_type": "execute_result"
    },
    {
     "data": {
      "image/png": "[encoded data removed]",
      "text/plain": [
       "<Figure size 432x288 with 1 Axes>"
      ]
     },
     "metadata": {
      "needs_background": "light"
     },
     "output_type": "display_data"
    }
   ],
   "source": [
    "#Quantiles of distribution\n",
    "u = (range(1,n+1) - 0.5*np.ones(n))/n\n",
    "Dis = sc.beta.ppf(u,a,b,loc,scale)\n",
    "plt.scatter(x,Dis)\n",
    "plt.plot([0,80],[0,80],c='r')\n",
    "\n",
    "sc.kstest(x,'beta',args = (a,b,loc,scale)) # if pval > 0.05 fail to reject null hypothesis"
   ]
  },
  {
   "cell_type": "code",
   "execution_count": 71,
   "metadata": {},
   "outputs": [
    {
     "data": {
      "image/png": "[encoded data removed]",
      "text/plain": [
       "<Figure size 432x288 with 1 Axes>"
      ]
     },
     "metadata": {
      "needs_background": "light"
     },
     "output_type": "display_data"
    }
   ],
   "source": [
    "## Raleigh\n",
    "\n",
    "loc,scale = sc.rayleigh.fit(Onsite_repair_time)\n",
    "\n",
    "x = np.sort(Onsite_repair_time)\n",
    "plt.hist(x,density = 1)\n",
    "u = np.arange(0,80,80/n)\n",
    "fx = sc.rayleigh.pdf(u,loc,scale)\n",
    "plt.plot(x, fx);"
   ]
  },
  {
   "cell_type": "code",
   "execution_count": 72,
   "metadata": {},
   "outputs": [
    {
     "data": {
      "text/plain": [
       "KstestResult(statistic=0.010357084645583159, pvalue=0.5538395344963649)"
      ]
     },
     "execution_count": 72,
     "metadata": {},
     "output_type": "execute_result"
    },
    {
     "data": {
      "image/png": "[encoded data removed]",
      "text/plain": [
       "<Figure size 432x288 with 1 Axes>"
      ]
     },
     "metadata": {
      "needs_background": "light"
     },
     "output_type": "display_data"
    }
   ],
   "source": [
    "#Quantiles of distribution\n",
    "\n",
    "u = (range(1,n+1) - 0.5*np.ones(n))/n\n",
    "Dis = sc.rayleigh.ppf(u,loc,scale)\n",
    "plt.scatter(x,Dis)\n",
    "plt.plot([0,80],[0,80],c='r')\n",
    "\n",
    "sc.kstest(x,'rayleigh',args = (loc,scale)) # if pval > 0.05 fail to reject null hypothesis"
   ]
  },
  {
   "cell_type": "code",
   "execution_count": 73,
   "metadata": {},
   "outputs": [
    {
     "name": "stdout",
     "output_type": "stream",
     "text": [
      "5.326346074135864 -5.120337470139379 5.432227543631485\n"
     ]
    },
    {
     "data": {
      "image/png": "[encoded data removed]",
      "text/plain": [
       "<Figure size 432x288 with 1 Axes>"
      ]
     },
     "metadata": {
      "needs_background": "light"
     },
     "output_type": "display_data"
    }
   ],
   "source": [
    "## Gamma\n",
    "\n",
    "a,loc,scale = sc.gamma.fit(Onsite_repair_time)\n",
    "print (a,loc,scale)\n",
    "x = np.sort(Onsite_repair_time)\n",
    "plt.hist(x,density = 1)\n",
    "u = np.arange(0,80,80/n)\n",
    "fx = sc.gamma.pdf(u,a,loc,scale)\n",
    "plt.plot(x, fx);"
   ]
  },
  {
   "cell_type": "code",
   "execution_count": 74,
   "metadata": {},
   "outputs": [
    {
     "data": {
      "text/plain": [
       "KstestResult(statistic=0.02314073447651188, pvalue=0.003690049174504887)"
      ]
     },
     "execution_count": 74,
     "metadata": {},
     "output_type": "execute_result"
    },
    {
     "data": {
      "image/png": "[encoded data removed]",
      "text/plain": [
       "<Figure size 432x288 with 1 Axes>"
      ]
     },
     "metadata": {
      "needs_background": "light"
     },
     "output_type": "display_data"
    }
   ],
   "source": [
    "#Quantiles of distribution\n",
    "u = (range(1,n+1) - 0.5*np.ones(n))/n\n",
    "Dis = sc.gamma.ppf(u,a,loc,scale)\n",
    "plt.scatter(x,Dis)\n",
    "plt.plot([0,80],[0,80],c='r')\n",
    "\n",
    "sc.kstest(x,'gamma',args = (a,loc,scale)) # if pval > 0.05 fail to reject null hypothesis"
   ]
  },
  {
   "cell_type": "markdown",
   "metadata": {},
   "source": [
    "<br>From Q-Q plots - Beta,Raleigh and Gamma - all three looks good fit. However, going by p-value of ks test (at 95% level), we will be <b>modelling on-site repair time as Beta Distribution with parameters (a = 2.61, b=7.46, loc = -0.4657, sclae = 93.4518).</b>\n",
    "\n",
    "<br>For Normal, p-value = 1.1858345823398563e-12\n",
    "<br><b>For Beta, p-value = 0.687462279791315 </b>\n",
    "<br>For Raleigh, p-value = 0.5538395344963649  \n",
    "<br>For Gamma, p-value = 0.003690049174504887"
   ]
  },
  {
   "cell_type": "markdown",
   "metadata": {},
   "source": [
    "## Q4"
   ]
  },
  {
   "cell_type": "code",
   "execution_count": 75,
   "metadata": {},
   "outputs": [],
   "source": [
    "import numpy as np\n",
    "import matplotlib.pyplot as plt\n",
    "import pandas as pd\n",
    "import scipy.stats as sc"
   ]
  },
  {
   "cell_type": "markdown",
   "metadata": {},
   "source": [
    "## Answer 4A"
   ]
  },
  {
   "cell_type": "code",
   "execution_count": 76,
   "metadata": {},
   "outputs": [
    {
     "name": "stdout",
     "output_type": "stream",
     "text": [
      "Histogram of Initial Diagnosis time. It looks like a normal distribution\n"
     ]
    },
    {
     "data": {
      "image/png": "[encoded data removed]",
      "text/plain": [
       "<Figure size 432x288 with 1 Axes>"
      ]
     },
     "metadata": {
      "needs_background": "light"
     },
     "output_type": "display_data"
    }
   ],
   "source": [
    "data = pd.read_csv(\"TonerItDown.csv\")\n",
    "plt.hist(data[\"Initial diagnose time\"])\n",
    "print(\"Histogram of Initial Diagnosis time. It looks like a normal distribution\")"
   ]
  },
  {
   "cell_type": "code",
   "execution_count": 77,
   "metadata": {},
   "outputs": [
    {
     "data": {
      "text/plain": [
       "7172"
      ]
     },
     "execution_count": 77,
     "metadata": {},
     "output_type": "execute_result"
    }
   ],
   "source": [
    "n = np.size(data[\"Initial diagnose time\"])\n",
    "loc,scale = sc.norm.fit(data[\"Initial diagnose time\"])\n",
    "loc,scale\n",
    "n"
   ]
  },
  {
   "cell_type": "code",
   "execution_count": 78,
   "metadata": {},
   "outputs": [
    {
     "data": {
      "text/plain": [
       "[<matplotlib.lines.Line2D at 0x1a1f191d68>]"
      ]
     },
     "execution_count": 78,
     "metadata": {},
     "output_type": "execute_result"
    },
    {
     "data": {
      "image/png": "[encoded data removed]",
      "text/plain": [
       "<Figure size 432x288 with 1 Axes>"
      ]
     },
     "metadata": {
      "needs_background": "light"
     },
     "output_type": "display_data"
    }
   ],
   "source": [
    "x = np.sort(data[\"Initial diagnose time\"])\n",
    "plt.hist(x,density = 1)\n",
    "u = np.arange(0,40,40/n)\n",
    "fx = sc.norm.pdf(u,loc,scale)\n",
    "plt.plot(x, fx)"
   ]
  },
  {
   "cell_type": "code",
   "execution_count": 79,
   "metadata": {},
   "outputs": [
    {
     "data": {
      "text/plain": [
       "[<matplotlib.lines.Line2D at 0x1a1f25b198>]"
      ]
     },
     "execution_count": 79,
     "metadata": {},
     "output_type": "execute_result"
    },
    {
     "data": {
      "image/png": "[encoded data removed]",
      "text/plain": [
       "<Figure size 432x288 with 1 Axes>"
      ]
     },
     "metadata": {
      "needs_background": "light"
     },
     "output_type": "display_data"
    }
   ],
   "source": [
    "#Quantiles of distribution\n",
    "u = (range(1,n+1) - 0.5*np.ones(n))/n\n",
    "Dis = sc.norm.ppf(u,loc,scale)\n",
    "plt.scatter(x,Dis)\n",
    "plt.plot([0,40],[0,40],c='r')"
   ]
  },
  {
   "cell_type": "code",
   "execution_count": 80,
   "metadata": {},
   "outputs": [
    {
     "data": {
      "text/plain": [
       "KstestResult(statistic=0.08676490905571166, pvalue=2.5367175306064073e-47)"
      ]
     },
     "execution_count": 80,
     "metadata": {},
     "output_type": "execute_result"
    }
   ],
   "source": [
    "sc.kstest(x,'norm',args = (loc,scale)) # pval > 0.05 fail to reject null hypothesis"
   ]
  },
  {
   "cell_type": "markdown",
   "metadata": {},
   "source": [
    "<b>The distribution looks like normal, but KS test do not justify this assumption. This might be due to presence of multiple groups in the dataset. We will investigate this in below parts. </b>"
   ]
  },
  {
   "cell_type": "markdown",
   "metadata": {},
   "source": [
    "## Answer 4B"
   ]
  },
  {
   "cell_type": "code",
   "execution_count": 81,
   "metadata": {},
   "outputs": [
    {
     "data": {
      "text/plain": [
       "array(['BC_10', 'BC_1', 'BC_5', 'BC_4', 'BC_9', 'BC_6', 'BC_8', 'BC_3',\n",
       "       'BC_7', 'BC_2'], dtype=object)"
      ]
     },
     "execution_count": 81,
     "metadata": {},
     "output_type": "execute_result"
    }
   ],
   "source": [
    "data[\"Request location\"].unique()"
   ]
  },
  {
   "cell_type": "code",
   "execution_count": 82,
   "metadata": {},
   "outputs": [],
   "source": [
    "businesscenters = ['BC_1','BC_2','BC_3','BC_4','BC_5','BC_6','BC_7','BC_8','BC_9','BC_10']\n",
    "clean = data[['Time of day', 'Request location', 'Initial diagnose time']]"
   ]
  },
  {
   "cell_type": "code",
   "execution_count": 83,
   "metadata": {},
   "outputs": [
    {
     "name": "stdout",
     "output_type": "stream",
     "text": [
      "This is for  BC_1\n",
      "15.974684218978792\n"
     ]
    },
    {
     "data": {
      "image/png": "[encoded data removed]",
      "text/plain": [
       "<Figure size 432x288 with 1 Axes>"
      ]
     },
     "metadata": {
      "needs_background": "light"
     },
     "output_type": "display_data"
    },
    {
     "name": "stdout",
     "output_type": "stream",
     "text": [
      "This is for  BC_2\n",
      "22.18928299375254\n"
     ]
    },
    {
     "data": {
      "image/png": "[encoded data removed]",
      "text/plain": [
       "<Figure size 432x288 with 1 Axes>"
      ]
     },
     "metadata": {
      "needs_background": "light"
     },
     "output_type": "display_data"
    },
    {
     "name": "stdout",
     "output_type": "stream",
     "text": [
      "This is for  BC_3\n",
      "22.021860421525826\n"
     ]
    },
    {
     "data": {
      "image/png": "[encoded data removed]",
      "text/plain": [
       "<Figure size 432x288 with 1 Axes>"
      ]
     },
     "metadata": {
      "needs_background": "light"
     },
     "output_type": "display_data"
    },
    {
     "name": "stdout",
     "output_type": "stream",
     "text": [
      "This is for  BC_4\n",
      "16.180883201904336\n"
     ]
    },
    {
     "data": {
      "image/png": "[encoded data removed]",
      "text/plain": [
       "<Figure size 432x288 with 1 Axes>"
      ]
     },
     "metadata": {
      "needs_background": "light"
     },
     "output_type": "display_data"
    },
    {
     "name": "stdout",
     "output_type": "stream",
     "text": [
      "This is for  BC_5\n",
      "16.19863668737339\n"
     ]
    },
    {
     "data": {
      "image/png": "[encoded data removed]",
      "text/plain": [
       "<Figure size 432x288 with 1 Axes>"
      ]
     },
     "metadata": {
      "needs_background": "light"
     },
     "output_type": "display_data"
    },
    {
     "name": "stdout",
     "output_type": "stream",
     "text": [
      "This is for  BC_6\n",
      "16.151506043576152\n"
     ]
    },
    {
     "data": {
      "image/png": "[encoded data removed]",
      "text/plain": [
       "<Figure size 432x288 with 1 Axes>"
      ]
     },
     "metadata": {
      "needs_background": "light"
     },
     "output_type": "display_data"
    },
    {
     "name": "stdout",
     "output_type": "stream",
     "text": [
      "This is for  BC_7\n",
      "16.01177257942054\n"
     ]
    },
    {
     "data": {
      "image/png": "[encoded data removed]",
      "text/plain": [
       "<Figure size 432x288 with 1 Axes>"
      ]
     },
     "metadata": {
      "needs_background": "light"
     },
     "output_type": "display_data"
    },
    {
     "name": "stdout",
     "output_type": "stream",
     "text": [
      "This is for  BC_8\n",
      "16.269801562621687\n"
     ]
    },
    {
     "data": {
      "image/png": "[encoded data removed]",
      "text/plain": [
       "<Figure size 432x288 with 1 Axes>"
      ]
     },
     "metadata": {
      "needs_background": "light"
     },
     "output_type": "display_data"
    },
    {
     "name": "stdout",
     "output_type": "stream",
     "text": [
      "This is for  BC_9\n",
      "22.235297435301234\n"
     ]
    },
    {
     "data": {
      "image/png": "[encoded data removed]",
      "text/plain": [
       "<Figure size 432x288 with 1 Axes>"
      ]
     },
     "metadata": {
      "needs_background": "light"
     },
     "output_type": "display_data"
    },
    {
     "name": "stdout",
     "output_type": "stream",
     "text": [
      "This is for  BC_10\n",
      "16.10620390963405\n"
     ]
    },
    {
     "data": {
      "image/png": "[encoded data removed]",
      "text/plain": [
       "<Figure size 432x288 with 1 Axes>"
      ]
     },
     "metadata": {
      "needs_background": "light"
     },
     "output_type": "display_data"
    }
   ],
   "source": [
    "for i in businesscenters:\n",
    "    data1 = data[data[\"Request location\"] == i]\n",
    "    print(\"This is for \",i)\n",
    "    plt.hist(data1[\"Initial diagnose time\"])\n",
    "    print(np.mean(data1[\"Initial diagnose time\"]))\n",
    "    plt.show()"
   ]
  },
  {
   "cell_type": "markdown",
   "metadata": {},
   "source": [
    "## Answer C"
   ]
  },
  {
   "cell_type": "markdown",
   "metadata": {},
   "source": [
    "<b>The groups are 1,4,5,6,7,8,10 (with mean in range of 15.96 - 16.20) \n",
    "#and 2,3,9 (with mean in range of 22.02-22.18)</b>"
   ]
  },
  {
   "cell_type": "markdown",
   "metadata": {},
   "source": [
    "We will be doing KS test to see if normal distribution fits each of these groups. "
   ]
  },
  {
   "cell_type": "markdown",
   "metadata": {},
   "source": [
    "### For group 1"
   ]
  },
  {
   "cell_type": "code",
   "execution_count": 84,
   "metadata": {},
   "outputs": [
    {
     "data": {
      "text/plain": [
       "(16.130224047501244, 2.8916175742876202)"
      ]
     },
     "execution_count": 84,
     "metadata": {},
     "output_type": "execute_result"
    }
   ],
   "source": [
    "group1 = [\"BC_1\",\"BC_4\",\"BC_5\",\"BC_6\",\"BC_7\",\"BC_8\",\"BC_10\"]\n",
    "group2 = ['BC_2','BC_3','BC_9']\n",
    "\n",
    "data2 = data[data[\"Request location\"].isin(group1)]\n",
    "n = np.size(data2[\"Initial diagnose time\"])\n",
    "loc,scale = sc.norm.fit(data2[\"Initial diagnose time\"])\n",
    "loc,scale"
   ]
  },
  {
   "cell_type": "code",
   "execution_count": 85,
   "metadata": {},
   "outputs": [
    {
     "data": {
      "text/plain": [
       "[<matplotlib.lines.Line2D at 0x1a1fb46358>]"
      ]
     },
     "execution_count": 85,
     "metadata": {},
     "output_type": "execute_result"
    },
    {
     "data": {
      "image/png": "[encoded data removed]",
      "text/plain": [
       "<Figure size 432x288 with 1 Axes>"
      ]
     },
     "metadata": {
      "needs_background": "light"
     },
     "output_type": "display_data"
    }
   ],
   "source": [
    "n = np.size(data2[\"Initial diagnose time\"])\n",
    "x = np.sort(data2[\"Initial diagnose time\"])\n",
    "plt.hist(x,density = 1)\n",
    "u = np.arange(0,25,25/n)\n",
    "fx = sc.norm.pdf(u,loc,scale)\n",
    "plt.plot(x, fx)"
   ]
  },
  {
   "cell_type": "code",
   "execution_count": 86,
   "metadata": {},
   "outputs": [
    {
     "data": {
      "text/plain": [
       "KstestResult(statistic=0.008777624667443806, pvalue=0.8514265185158666)"
      ]
     },
     "execution_count": 86,
     "metadata": {},
     "output_type": "execute_result"
    },
    {
     "data": {
      "image/png": "[encoded data removed]",
      "text/plain": [
       "<Figure size 432x288 with 1 Axes>"
      ]
     },
     "metadata": {
      "needs_background": "light"
     },
     "output_type": "display_data"
    }
   ],
   "source": [
    "#Quantiles of distribution\n",
    "u = (range(1,n+1) - 0.5*np.ones(n))/n\n",
    "Dis = sc.norm.ppf(u,loc,scale)\n",
    "plt.scatter(x,Dis)\n",
    "plt.plot([0,40],[0,40],c='r')\n",
    "sc.kstest(x,'norm',args = (loc,scale)) # pval > 0.05 fail to reject null hypothesis"
   ]
  },
  {
   "cell_type": "markdown",
   "metadata": {},
   "source": [
    "### For 2nd Group"
   ]
  },
  {
   "cell_type": "code",
   "execution_count": 87,
   "metadata": {},
   "outputs": [
    {
     "name": "stdout",
     "output_type": "stream",
     "text": [
      "22.153446895226384 5.34520440992782\n"
     ]
    },
    {
     "data": {
      "image/png": "[encoded data removed]",
      "text/plain": [
       "<Figure size 432x288 with 1 Axes>"
      ]
     },
     "metadata": {
      "needs_background": "light"
     },
     "output_type": "display_data"
    },
    {
     "data": {
      "text/plain": [
       "KstestResult(statistic=0.012617014410356675, pvalue=0.8485153586745044)"
      ]
     },
     "execution_count": 87,
     "metadata": {},
     "output_type": "execute_result"
    },
    {
     "data": {
      "image/png": "[encoded data removed]",
      "text/plain": [
       "<Figure size 432x288 with 1 Axes>"
      ]
     },
     "metadata": {
      "needs_background": "light"
     },
     "output_type": "display_data"
    }
   ],
   "source": [
    "data3 = data[data[\"Request location\"].isin(group2)]\n",
    "n = np.size(data3[\"Initial diagnose time\"])\n",
    "loc,scale = sc.norm.fit(data3[\"Initial diagnose time\"])\n",
    "print(loc,scale)\n",
    "n = np.size(data3[\"Initial diagnose time\"])\n",
    "x = np.sort(data3[\"Initial diagnose time\"])\n",
    "plt.hist(x,density = 1)\n",
    "\n",
    "u = np.arange(0,40,40/n)\n",
    "fx = sc.norm.pdf(u,loc,scale)\n",
    "plt.plot(x, fx)\n",
    "plt.show()\n",
    "#Quantiles of distribution\n",
    "u = (range(1,n+1) - 0.5*np.ones(n))/n\n",
    "Dis = sc.norm.ppf(u,loc,scale)\n",
    "plt.scatter(x,Dis)\n",
    "plt.plot([0,40],[0,40],c='r')\n",
    "\n",
    "sc.kstest(x,'norm',args = (loc,scale)) # pval > 0.05 fail to reject null hypothesis"
   ]
  },
  {
   "cell_type": "markdown",
   "metadata": {},
   "source": [
    "<b> As can be seeing from KS test values, normal distribution fits each of these groups individually with p values being around 0.85 for each group. </b>"
   ]
  },
  {
   "cell_type": "markdown",
   "metadata": {},
   "source": [
    "## Part D"
   ]
  },
  {
   "cell_type": "markdown",
   "metadata": {},
   "source": [
    "<b>\n",
    "<br>We will be have 10 sources and 2 distribution classes. \n",
    "<br>1st distribution class: Normal distribution with parameters (mean = 16.13, std deviation = 2.891)\n",
    "<br>for group1 = [\"BC_1\",\"BC_4\",\"BC_5\",\"BC_6\",\"BC_7\",\"BC_8\",\"BC_10\"]\n",
    "\n",
    "<br>2nd distribution class: Normal distribution with parameters (mean = 22.15, std deviation = 5.345)\n",
    "<br>for group2 = ['BC_2','BC_3','BC_9']\n",
    "    </b>"
   ]
  },
  {
   "cell_type": "markdown",
   "metadata": {},
   "source": [
    "# Q 5"
   ]
  },
  {
   "cell_type": "code",
   "execution_count": 88,
   "metadata": {},
   "outputs": [],
   "source": [
    "import pandas as pd\n",
    "import numpy as np\n",
    "import scipy.stats as sc\n",
    "import scipy.stats as st\n",
    "import matplotlib.pyplot as plt"
   ]
  },
  {
   "cell_type": "code",
   "execution_count": 89,
   "metadata": {},
   "outputs": [
    {
     "data": {
      "text/html": [
       "<div>\n",
       "<style scoped>\n",
       "    .dataframe tbody tr th:only-of-type {\n",
       "        vertical-align: middle;\n",
       "    }\n",
       "\n",
       "    .dataframe tbody tr th {\n",
       "        vertical-align: top;\n",
       "    }\n",
       "\n",
       "    .dataframe thead th {\n",
       "        text-align: right;\n",
       "    }\n",
       "</style>\n",
       "<table border=\"1\" class=\"dataframe\">\n",
       "  <thead>\n",
       "    <tr style=\"text-align: right;\">\n",
       "      <th></th>\n",
       "      <th>Request no</th>\n",
       "      <th>Day</th>\n",
       "      <th>Time of day</th>\n",
       "      <th>Request location</th>\n",
       "      <th>Initial diagnose time</th>\n",
       "      <th>Needs Replacement?</th>\n",
       "      <th>On-site repair time</th>\n",
       "    </tr>\n",
       "  </thead>\n",
       "  <tbody>\n",
       "    <tr>\n",
       "      <th>0</th>\n",
       "      <td>1</td>\n",
       "      <td>1</td>\n",
       "      <td>0.239113</td>\n",
       "      <td>BC_10</td>\n",
       "      <td>12.633020</td>\n",
       "      <td>NaN</td>\n",
       "      <td>22.125290</td>\n",
       "    </tr>\n",
       "    <tr>\n",
       "      <th>1</th>\n",
       "      <td>2</td>\n",
       "      <td>1</td>\n",
       "      <td>1.139550</td>\n",
       "      <td>BC_1</td>\n",
       "      <td>19.486501</td>\n",
       "      <td>yes</td>\n",
       "      <td>NaN</td>\n",
       "    </tr>\n",
       "    <tr>\n",
       "      <th>2</th>\n",
       "      <td>3</td>\n",
       "      <td>1</td>\n",
       "      <td>1.309831</td>\n",
       "      <td>BC_5</td>\n",
       "      <td>16.161550</td>\n",
       "      <td>NaN</td>\n",
       "      <td>7.349665</td>\n",
       "    </tr>\n",
       "    <tr>\n",
       "      <th>3</th>\n",
       "      <td>4</td>\n",
       "      <td>1</td>\n",
       "      <td>1.458689</td>\n",
       "      <td>BC_4</td>\n",
       "      <td>17.991248</td>\n",
       "      <td>NaN</td>\n",
       "      <td>31.835509</td>\n",
       "    </tr>\n",
       "    <tr>\n",
       "      <th>4</th>\n",
       "      <td>5</td>\n",
       "      <td>1</td>\n",
       "      <td>1.754376</td>\n",
       "      <td>BC_5</td>\n",
       "      <td>16.736394</td>\n",
       "      <td>NaN</td>\n",
       "      <td>10.733933</td>\n",
       "    </tr>\n",
       "  </tbody>\n",
       "</table>\n",
       "</div>"
      ],
      "text/plain": [
       "   Request no  Day  Time of day Request location  Initial diagnose time  \\\n",
       "0           1    1     0.239113            BC_10              12.633020   \n",
       "1           2    1     1.139550             BC_1              19.486501   \n",
       "2           3    1     1.309831             BC_5              16.161550   \n",
       "3           4    1     1.458689             BC_4              17.991248   \n",
       "4           5    1     1.754376             BC_5              16.736394   \n",
       "\n",
       "  Needs Replacement?  On-site repair time  \n",
       "0                NaN            22.125290  \n",
       "1                yes                  NaN  \n",
       "2                NaN             7.349665  \n",
       "3                NaN            31.835509  \n",
       "4                NaN            10.733933  "
      ]
     },
     "execution_count": 89,
     "metadata": {},
     "output_type": "execute_result"
    }
   ],
   "source": [
    "data = pd.read_csv('TonerItDown.csv', header=0)\n",
    "data.head(5)"
   ]
  },
  {
   "cell_type": "code",
   "execution_count": 90,
   "metadata": {},
   "outputs": [
    {
     "data": {
      "text/plain": [
       "array(['BC_10', 'BC_1', 'BC_5', 'BC_4', 'BC_9', 'BC_6', 'BC_8', 'BC_3',\n",
       "       'BC_7', 'BC_2'], dtype=object)"
      ]
     },
     "execution_count": 90,
     "metadata": {},
     "output_type": "execute_result"
    }
   ],
   "source": [
    "data['Request location'].unique()"
   ]
  },
  {
   "cell_type": "code",
   "execution_count": 91,
   "metadata": {},
   "outputs": [],
   "source": [
    "data['o_BC_1'] = (data['Request location'] == 'BC_1').astype(int)\n",
    "data['o_BC_2'] = (data['Request location'] == 'BC_2').astype(int)\n",
    "data['o_BC_3'] = (data['Request location'] == 'BC_3').astype(int)\n",
    "data['o_BC_4'] = (data['Request location'] == 'BC_4').astype(int)\n",
    "data['o_BC_5'] = (data['Request location'] == 'BC_5').astype(int)\n",
    "data['o_BC_6'] = (data['Request location'] == 'BC_6').astype(int)\n",
    "data['o_BC_7'] = (data['Request location'] == 'BC_7').astype(int)\n",
    "data['o_BC_8'] = (data['Request location'] == 'BC_8').astype(int)\n",
    "data['o_BC_9'] = (data['Request location'] == 'BC_9').astype(int)\n",
    "data['o_BC_10'] = (data['Request location'] == 'BC_10').astype(int)"
   ]
  },
  {
   "cell_type": "code",
   "execution_count": 92,
   "metadata": {},
   "outputs": [],
   "source": [
    "def get_conf(x):\n",
    "    m = len(x)\n",
    "    avg = np.mean(x)\n",
    "    LB = avg - st.norm.ppf(0.975)*np.sqrt(np.var(x, ddof=1)/m)\n",
    "    UB = avg + st.norm.ppf(0.975)*np.sqrt(np.var(x, ddof=1)/m)\n",
    "    return avg, LB, UB"
   ]
  },
  {
   "cell_type": "code",
   "execution_count": 93,
   "metadata": {},
   "outputs": [
    {
     "name": "stdout",
     "output_type": "stream",
     "text": [
      "Below are the (Mean, LB, UB) for each Location\n",
      "BC1 (0.039459007250418295, 0.034953027258082144, 0.043964987242754446)\n",
      "BC2 (0.0822643614054657, 0.07590486254733364, 0.08862386026359775)\n",
      "BC3 (0.1079196876742889, 0.10073826403251306, 0.11510111131606475)\n",
      "BC4 (0.13552704963747908, 0.12760482913582438, 0.14344927013913378)\n",
      "BC5 (0.11837702175125488, 0.11089991837860799, 0.12585412512390176)\n",
      "BC6 (0.054935861684327944, 0.04966214442666805, 0.060209578941987835)\n",
      "BC7 (0.12367540435025097, 0.11605580037328111, 0.13129500832722082)\n",
      "BC8 (0.057863915225878415, 0.052459870226862756, 0.06326796022489407)\n",
      "BC9 (0.13747908533184608, 0.12950902949162707, 0.1454491411720651)\n",
      "BC10 (0.14249860568878975, 0.13440800150611018, 0.15058920987146932)\n"
     ]
    }
   ],
   "source": [
    "print(\"Below are the (Mean, LB, UB) for each Location\")\n",
    "print(\"BC1\", get_conf(data['o_BC_1'].values))\n",
    "print(\"BC2\", get_conf(data['o_BC_2'].values))\n",
    "print(\"BC3\", get_conf(data['o_BC_3'].values))\n",
    "print(\"BC4\", get_conf(data['o_BC_4'].values))\n",
    "print(\"BC5\", get_conf(data['o_BC_5'].values))\n",
    "print(\"BC6\", get_conf(data['o_BC_6'].values))\n",
    "print(\"BC7\", get_conf(data['o_BC_7'].values))\n",
    "print(\"BC8\", get_conf(data['o_BC_8'].values))\n",
    "print(\"BC9\", get_conf(data['o_BC_9'].values))\n",
    "print(\"BC10\", get_conf(data['o_BC_10'].values))"
   ]
  },
  {
   "cell_type": "markdown",
   "metadata": {},
   "source": [
    "# Q6"
   ]
  },
  {
   "cell_type": "code",
   "execution_count": 94,
   "metadata": {},
   "outputs": [],
   "source": [
    "lambda_ = []\n",
    "for i in range(24):\n",
    "#i = 0\n",
    "    df = data.loc[(data['Time of day'] >= i) & (data['Time of day'] < i+1)]\n",
    "    l = np.mean(df[['Day', 'Time of day']].groupby(['Day']).agg(['count']).values)\n",
    "\n",
    "    #MLE for a stationary poisson process is the mean across all the observations\n",
    "\n",
    "    lambda_.append(l) "
   ]
  },
  {
   "cell_type": "code",
   "execution_count": 95,
   "metadata": {},
   "outputs": [
    {
     "data": {
      "text/plain": [
       "[1.3529411764705883,\n",
       " 1.7894736842105263,\n",
       " 1.9574468085106382,\n",
       " 3.1052631578947367,\n",
       " 3.75,\n",
       " 4.95,\n",
       " 5.916666666666667,\n",
       " 6.566666666666666,\n",
       " 7.083333333333333,\n",
       " 7.0,\n",
       " 7.983333333333333,\n",
       " 8.15,\n",
       " 8.15,\n",
       " 7.566666666666666,\n",
       " 7.783333333333333,\n",
       " 7.533333333333333,\n",
       " 6.733333333333333,\n",
       " 6.316666666666666,\n",
       " 5.016666666666667,\n",
       " 4.423728813559322,\n",
       " 3.533333333333333,\n",
       " 2.581818181818182,\n",
       " 1.4772727272727273,\n",
       " 1.5909090909090908]"
      ]
     },
     "execution_count": 95,
     "metadata": {},
     "output_type": "execute_result"
    }
   ],
   "source": [
    "lambda_"
   ]
  },
  {
   "cell_type": "code",
   "execution_count": 96,
   "metadata": {},
   "outputs": [
    {
     "data": {
      "text/plain": [
       "(array([0.00703348, 0.00882633, 0.01448069, 0.02606525, 0.03254708,\n",
       "        0.04054594, 0.05130302, 0.05557827, 0.05888815, 0.0595777 ,\n",
       "        0.06743865, 0.06757656, 0.06812821, 0.06412878, 0.06578371,\n",
       "        0.06081891, 0.05406125, 0.05144093, 0.04123549, 0.03351246,\n",
       "        0.02730645, 0.01668727, 0.00786095, 0.00827468]),\n",
       " array([ 0.04797284,  1.05899275,  2.07001266,  3.08103256,  4.09205247,\n",
       "         5.10307238,  6.11409228,  7.12511219,  8.1361321 ,  9.14715201,\n",
       "        10.15817191, 11.16919182, 12.18021173, 13.19123163, 14.20225154,\n",
       "        15.21327145, 16.22429135, 17.23531126, 18.24633117, 19.25735108,\n",
       "        20.26837098, 21.27939089, 22.2904108 , 23.3014307 , 24.31245061]),\n",
       " <a list of 24 Patch objects>)"
      ]
     },
     "execution_count": 96,
     "metadata": {},
     "output_type": "execute_result"
    },
    {
     "data": {
      "image/png": "[encoded data removed]",
      "text/plain": [
       "<Figure size 432x288 with 1 Axes>"
      ]
     },
     "metadata": {
      "needs_background": "light"
     },
     "output_type": "display_data"
    }
   ],
   "source": [
    "x = np.sort(data['Time of day'].values)\n",
    "plt.hist(x, density = 100, bins = 24 )"
   ]
  },
  {
   "cell_type": "code",
   "execution_count": 97,
   "metadata": {},
   "outputs": [
    {
     "data": {
      "text/plain": [
       "Text(0.5, 0, 'time t')"
      ]
     },
     "execution_count": 97,
     "metadata": {},
     "output_type": "execute_result"
    },
    {
     "data": {
      "image/png": "[encoded data removed]",
      "text/plain": [
       "<Figure size 432x288 with 1 Axes>"
      ]
     },
     "metadata": {
      "needs_background": "light"
     },
     "output_type": "display_data"
    }
   ],
   "source": [
    "x = range(1,25)\n",
    "y = lambda_\n",
    "plt.scatter(x,y, c = 'red')\n",
    "plt.title('Value of rate function at hour t')\n",
    "plt.xlabel('time t')"
   ]
  },
  {
   "cell_type": "code",
   "execution_count": 98,
   "metadata": {},
   "outputs": [
    {
     "name": "stdout",
     "output_type": "stream",
     "text": [
      "Time Period:  0  -  1  Has value of rate function:  1.3529411764705883\n",
      "Time Period:  1  -  2  Has value of rate function:  1.7894736842105263\n",
      "Time Period:  2  -  3  Has value of rate function:  1.9574468085106382\n",
      "Time Period:  3  -  4  Has value of rate function:  3.1052631578947367\n",
      "Time Period:  4  -  5  Has value of rate function:  3.75\n",
      "Time Period:  5  -  6  Has value of rate function:  4.95\n",
      "Time Period:  6  -  7  Has value of rate function:  5.916666666666667\n",
      "Time Period:  7  -  8  Has value of rate function:  6.566666666666666\n",
      "Time Period:  8  -  9  Has value of rate function:  7.083333333333333\n",
      "Time Period:  9  -  10  Has value of rate function:  7.0\n",
      "Time Period:  10  -  11  Has value of rate function:  7.983333333333333\n",
      "Time Period:  11  -  12  Has value of rate function:  8.15\n",
      "Time Period:  12  -  13  Has value of rate function:  8.15\n",
      "Time Period:  13  -  14  Has value of rate function:  7.566666666666666\n",
      "Time Period:  14  -  15  Has value of rate function:  7.783333333333333\n",
      "Time Period:  15  -  16  Has value of rate function:  7.533333333333333\n",
      "Time Period:  16  -  17  Has value of rate function:  6.733333333333333\n",
      "Time Period:  17  -  18  Has value of rate function:  6.316666666666666\n",
      "Time Period:  18  -  19  Has value of rate function:  5.016666666666667\n",
      "Time Period:  19  -  20  Has value of rate function:  4.423728813559322\n",
      "Time Period:  20  -  21  Has value of rate function:  3.533333333333333\n",
      "Time Period:  21  -  22  Has value of rate function:  2.581818181818182\n",
      "Time Period:  22  -  23  Has value of rate function:  1.4772727272727273\n",
      "Time Period:  23  -  24  Has value of rate function:  1.5909090909090908\n"
     ]
    }
   ],
   "source": [
    "for i in range(24):\n",
    "    print(\"Time Period: \",i,\" - \",i+1, \" Has value of rate function: \", lambda_[i])"
   ]
  },
  {
   "cell_type": "markdown",
   "metadata": {},
   "source": [
    "## Q7"
   ]
  },
  {
   "cell_type": "markdown",
   "metadata": {},
   "source": [
    "<br>\"Van operators indicate that swapping a broken copier for a working one at the dispatch center can take as little <br>as 10 minutes, or as much as 25 minutes, but usually takes about 15 minutes.\"\n",
    "\n",
    "<br>\"Van operators indicated this usually takes about 30 minutes, but can take anywhere from 20 minutes to an hour\"\n",
    "\n",
    "<br><b>We will be using triangular distribution for copy swap times at both dispatch center and customer location. As we are given min, max and mode (most usual time) for both process. </b>\n",
    "\n",
    "<br>For swap time at dispatch center (all in minutes): \n",
    "<br>min = 10\n",
    "<br>most likely = 15\n",
    "<br>max = 25\n",
    "\n",
    "<br>For swap time at dispatch center (all in minutes): \n",
    "<br>min = 20\n",
    "<br>most likely = 30\n",
    "<br>max = 60"
   ]
  },
  {
   "cell_type": "code",
   "execution_count": 99,
   "metadata": {},
   "outputs": [
    {
     "name": "stdout",
     "output_type": "stream",
     "text": [
      "sample dispatch swap time:  [14.67472812]\n",
      "sample customer swap time:  [31.26588341]\n"
     ]
    }
   ],
   "source": [
    "swap_time_dispatch = np.random.triangular(10, 15, 25, size=1)  #unit in minutes. \n",
    "swap_time_customer = np.random.triangular(20, 30, 60, size=1)  #unit in minutes. \n",
    "print(\"sample dispatch swap time: \",swap_time_dispatch)\n",
    "print(\"sample customer swap time: \",swap_time_customer)"
   ]
  },
  {
   "cell_type": "code",
   "execution_count": null,
   "metadata": {},
   "outputs": [],
   "source": []
  },
  {
   "cell_type": "code",
   "execution_count": null,
   "metadata": {},
   "outputs": [],
   "source": []
  },
  {
   "cell_type": "code",
   "execution_count": null,
   "metadata": {},
   "outputs": [],
   "source": []
  },
  {
   "cell_type": "code",
   "execution_count": null,
   "metadata": {},
   "outputs": [],
   "source": []
  },
  {
   "cell_type": "code",
   "execution_count": null,
   "metadata": {},
   "outputs": [],
   "source": []
  }
 ],
 "metadata": {
  "kernelspec": {
   "display_name": "Python 3",
   "language": "python",
   "name": "python3"
  },
  "language_info": {
   "codemirror_mode": {
    "name": "ipython",
    "version": 3
   },
   "file_extension": ".py",
   "mimetype": "text/x-python",
   "name": "python",
   "nbconvert_exporter": "python",
   "pygments_lexer": "ipython3",
   "version": "3.7.3"
  }
 },
 "nbformat": 4,
 "nbformat_minor": 2
}
