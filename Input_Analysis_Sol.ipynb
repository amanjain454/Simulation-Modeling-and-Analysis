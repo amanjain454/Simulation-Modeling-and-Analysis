{
 "cells": [
  {
   "cell_type": "code",
   "execution_count": 1,
   "metadata": {
    "colab": {},
    "colab_type": "code",
    "id": "qzespofG9S00"
   },
   "outputs": [],
   "source": [
    "import numpy as np\n",
    "import scipy.stats as sc\n",
    "import matplotlib.pyplot as plt\n",
    "%matplotlib inline\n",
    "import pandas as pd"
   ]
  },
  {
   "cell_type": "markdown",
   "metadata": {
    "colab_type": "text",
    "id": "AYbfQ8s1jwk4"
   },
   "source": [
    "# Fitting Input Distributions to the Provided Data"
   ]
  },
  {
   "cell_type": "markdown",
   "metadata": {
    "colab_type": "text",
    "id": "G78rE__aWyz4"
   },
   "source": [
    "1. Observe that there are data points with unreasonable value of 'time of day' (greater than 24), which should be dropped.  "
   ]
  },
  {
   "cell_type": "code",
   "execution_count": 2,
   "metadata": {
    "colab": {},
    "colab_type": "code",
    "id": "zqs1RjJl9v-O"
   },
   "outputs": [],
   "source": [
    "data = pd.read_csv('TonerItDown.csv')\n",
    "data = data[data['Time of day']<24]"
   ]
  },
  {
   "cell_type": "code",
   "execution_count": 3,
   "metadata": {
    "colab": {
     "base_uri": "https://localhost:8080/",
     "height": 204
    },
    "colab_type": "code",
    "id": "iKvVWd5U-ev9",
    "outputId": "468db333-ba05-48d7-8d72-6215197da9d9"
   },
   "outputs": [
    {
     "data": {
      "text/html": [
       "<div>\n",
       "<style scoped>\n",
       "    .dataframe tbody tr th:only-of-type {\n",
       "        vertical-align: middle;\n",
       "    }\n",
       "\n",
       "    .dataframe tbody tr th {\n",
       "        vertical-align: top;\n",
       "    }\n",
       "\n",
       "    .dataframe thead th {\n",
       "        text-align: right;\n",
       "    }\n",
       "</style>\n",
       "<table border=\"1\" class=\"dataframe\">\n",
       "  <thead>\n",
       "    <tr style=\"text-align: right;\">\n",
       "      <th></th>\n",
       "      <th>Request no</th>\n",
       "      <th>Day</th>\n",
       "      <th>Time of day</th>\n",
       "      <th>Request location</th>\n",
       "      <th>Initial diagnose time</th>\n",
       "      <th>Needs Replacement?</th>\n",
       "      <th>On-site repair time</th>\n",
       "    </tr>\n",
       "  </thead>\n",
       "  <tbody>\n",
       "    <tr>\n",
       "      <th>0</th>\n",
       "      <td>1</td>\n",
       "      <td>1</td>\n",
       "      <td>0.239113</td>\n",
       "      <td>BC_10</td>\n",
       "      <td>12.633020</td>\n",
       "      <td>NaN</td>\n",
       "      <td>22.125290</td>\n",
       "    </tr>\n",
       "    <tr>\n",
       "      <th>1</th>\n",
       "      <td>2</td>\n",
       "      <td>1</td>\n",
       "      <td>1.139550</td>\n",
       "      <td>BC_1</td>\n",
       "      <td>19.486501</td>\n",
       "      <td>yes</td>\n",
       "      <td>NaN</td>\n",
       "    </tr>\n",
       "    <tr>\n",
       "      <th>2</th>\n",
       "      <td>3</td>\n",
       "      <td>1</td>\n",
       "      <td>1.309831</td>\n",
       "      <td>BC_5</td>\n",
       "      <td>16.161550</td>\n",
       "      <td>NaN</td>\n",
       "      <td>7.349665</td>\n",
       "    </tr>\n",
       "    <tr>\n",
       "      <th>3</th>\n",
       "      <td>4</td>\n",
       "      <td>1</td>\n",
       "      <td>1.458689</td>\n",
       "      <td>BC_4</td>\n",
       "      <td>17.991248</td>\n",
       "      <td>NaN</td>\n",
       "      <td>31.835509</td>\n",
       "    </tr>\n",
       "    <tr>\n",
       "      <th>4</th>\n",
       "      <td>5</td>\n",
       "      <td>1</td>\n",
       "      <td>1.754376</td>\n",
       "      <td>BC_5</td>\n",
       "      <td>16.736394</td>\n",
       "      <td>NaN</td>\n",
       "      <td>10.733933</td>\n",
       "    </tr>\n",
       "  </tbody>\n",
       "</table>\n",
       "</div>"
      ],
      "text/plain": [
       "   Request no  Day  Time of day Request location  Initial diagnose time  \\\n",
       "0           1    1     0.239113            BC_10              12.633020   \n",
       "1           2    1     1.139550             BC_1              19.486501   \n",
       "2           3    1     1.309831             BC_5              16.161550   \n",
       "3           4    1     1.458689             BC_4              17.991248   \n",
       "4           5    1     1.754376             BC_5              16.736394   \n",
       "\n",
       "  Needs Replacement?  On-site repair time  \n",
       "0                NaN            22.125290  \n",
       "1                yes                  NaN  \n",
       "2                NaN             7.349665  \n",
       "3                NaN            31.835509  \n",
       "4                NaN            10.733933  "
      ]
     },
     "execution_count": 3,
     "metadata": {},
     "output_type": "execute_result"
    }
   ],
   "source": [
    "data.head()"
   ]
  },
  {
   "cell_type": "markdown",
   "metadata": {
    "colab_type": "text",
    "id": "2wtF35VJXWuM"
   },
   "source": [
    "2. Assuming each data point iid, then \n",
    "$$\n",
    "\\hat p = \\frac{\\text{# needs replacement}}{\\text{total}} = 0.1805\n",
    "$$\n",
    "$$\n",
    "\\hat \\sigma \\approx \\sqrt{\\hat p(1-\\hat p)} = 0.3846\n",
    "$$\n",
    "Then the confidence interval is \n",
    "$$\n",
    "[\\hat p - z_{\\alpha/2}\\frac{\\hat \\sigma}{\\sqrt{n}},\\hat p + z_{\\alpha/2}\\frac{\\hat \\sigma}{\\sqrt{n}}] = [0.1716,0.1894]\n",
    "$$\n",
    "where $\\alpha = 0.05$"
   ]
  },
  {
   "cell_type": "code",
   "execution_count": 6,
   "metadata": {
    "colab": {
     "base_uri": "https://localhost:8080/",
     "height": 34
    },
    "colab_type": "code",
    "id": "bea9fcll93-d",
    "outputId": "a58541b6-d3ae-4f6a-d544-cbaec31f7d56"
   },
   "outputs": [
    {
     "data": {
      "text/plain": [
       "(0.18051095909535111, 0.1716041123991188, 0.18941780579158343)"
      ]
     },
     "execution_count": 6,
     "metadata": {},
     "output_type": "execute_result"
    }
   ],
   "source": [
    "n = len(data)\n",
    "#assuming iid\n",
    "p_hat = len(data[data['Needs Replacement?'] == 'yes']) / len(data)\n",
    "std = np.sqrt(p_hat * (1-p_hat))\n",
    "LB = p_hat - sc.norm.ppf(1-0.05/2)*std / np.sqrt(n)\n",
    "UB = p_hat + sc.norm.ppf(1-0.05/2)*std / np.sqrt(n)\n",
    "(p_hat, LB,UB)"
   ]
  },
  {
   "cell_type": "markdown",
   "metadata": {
    "colab_type": "text",
    "id": "HuivBOJNZ0kK"
   },
   "source": [
    "3. The histogram looks like a continuous distribution. We perform Kolmogorov-Smirnov tests for Beta, Gamma, Lognormal, Exponential and Rayleigh distribution, respectively. According to p-value, we can see that the two distributions that appear to fit the\n",
    "data the best are the beta distribution and the rayleigh distribution.\n",
    "\n"
   ]
  },
  {
   "cell_type": "code",
   "execution_count": 7,
   "metadata": {
    "colab": {},
    "colab_type": "code",
    "id": "bAQnBEs9iEvO"
   },
   "outputs": [],
   "source": [
    "# data set of on site repairs\n",
    "data_on_site = data['On-site repair time'][data['Needs Replacement?'] != 'yes']\n",
    "# total number of on-site repairs \n",
    "n_on_site = len(data_on_site)"
   ]
  },
  {
   "cell_type": "code",
   "execution_count": 8,
   "metadata": {
    "colab": {
     "base_uri": "https://localhost:8080/",
     "height": 34
    },
    "colab_type": "code",
    "id": "e9xN--5jeHAT",
    "outputId": "104acc42-4c05-497d-fa7e-215805d60747"
   },
   "outputs": [
    {
     "data": {
      "text/plain": [
       "9.798105891322495e-13"
      ]
     },
     "execution_count": 8,
     "metadata": {},
     "output_type": "execute_result"
    }
   ],
   "source": [
    "# Normal fit\n",
    "param = sc.norm.fit(data_on_site)\n",
    "\n",
    "# K-S test\n",
    "test_stat, p_value = sc.stats.kstest(data_on_site,'norm',args=param)\n",
    "p_value"
   ]
  },
  {
   "cell_type": "code",
   "execution_count": 9,
   "metadata": {
    "colab": {
     "base_uri": "https://localhost:8080/",
     "height": 34
    },
    "colab_type": "code",
    "id": "lP0cr1PpHXjr",
    "outputId": "8cff2ed0-7596-4449-cec0-5bfb55d52abc"
   },
   "outputs": [
    {
     "data": {
      "text/plain": [
       "0.0011345757782733393"
      ]
     },
     "execution_count": 9,
     "metadata": {},
     "output_type": "execute_result"
    }
   ],
   "source": [
    "#lognormal fit\n",
    "param = sc.lognorm.fit(data_on_site)\n",
    "\n",
    "# K-S test\n",
    "test_stat, p_value = sc.stats.kstest(data_on_site,'lognorm',args=param)\n",
    "p_value"
   ]
  },
  {
   "cell_type": "code",
   "execution_count": 10,
   "metadata": {
    "colab": {
     "base_uri": "https://localhost:8080/",
     "height": 34
    },
    "colab_type": "code",
    "id": "NoDHgBveICMY",
    "outputId": "31287b07-6591-4e55-aacc-4bdda818f5d8"
   },
   "outputs": [
    {
     "data": {
      "text/plain": [
       "3.990212171645366e-239"
      ]
     },
     "execution_count": 10,
     "metadata": {},
     "output_type": "execute_result"
    }
   ],
   "source": [
    "#exponential fit\n",
    "param = sc.expon.fit(data_on_site)\n",
    "\n",
    "#K-S test\n",
    "test_stat, p_value = sc.stats.kstest(data_on_site,'expon',args=param)\n",
    "p_value"
   ]
  },
  {
   "cell_type": "code",
   "execution_count": 11,
   "metadata": {
    "colab": {
     "base_uri": "https://localhost:8080/",
     "height": 34
    },
    "colab_type": "code",
    "id": "yrEDOxovGMYE",
    "outputId": "3b61c523-3362-47b9-f161-642328260fe4"
   },
   "outputs": [
    {
     "data": {
      "text/plain": [
       "0.003355508191113828"
      ]
     },
     "execution_count": 11,
     "metadata": {},
     "output_type": "execute_result"
    }
   ],
   "source": [
    "# Gamma fit\n",
    "param = sc.gamma.fit(data_on_site)\n",
    "test_stat, p_value = sc.stats.kstest(data_on_site,'gamma',args=param)\n",
    "p_value"
   ]
  },
  {
   "cell_type": "code",
   "execution_count": 12,
   "metadata": {
    "colab": {
     "base_uri": "https://localhost:8080/",
     "height": 34
    },
    "colab_type": "code",
    "id": "FkmuAJtiILsQ",
    "outputId": "fa989eca-83bb-46e4-fcd5-e87a76f8ad29"
   },
   "outputs": [
    {
     "data": {
      "text/plain": [
       "0.5268019074548904"
      ]
     },
     "execution_count": 12,
     "metadata": {},
     "output_type": "execute_result"
    }
   ],
   "source": [
    "# Rayleigh fit \n",
    "param = sc.rayleigh.fit(data_on_site)\n",
    "\n",
    "# K-S test\n",
    "test_stat, p_value = sc.stats.kstest(data_on_site,'rayleigh',args=param)\n",
    "p_value"
   ]
  },
  {
   "cell_type": "code",
   "execution_count": 13,
   "metadata": {
    "colab": {
     "base_uri": "https://localhost:8080/",
     "height": 282
    },
    "colab_type": "code",
    "id": "G_jhVzSSIbz6",
    "outputId": "7a8ed570-2e35-4003-8f0a-bda1cda51e4f"
   },
   "outputs": [
    {
     "data": {
      "text/plain": [
       "[<matplotlib.lines.Line2D at 0x102592128>]"
      ]
     },
     "execution_count": 13,
     "metadata": {},
     "output_type": "execute_result"
    },
    {
     "data": {
      "image/png": "[encoded data removed]",
      "text/plain": [
       "<Figure size 432x288 with 1 Axes>"
      ]
     },
     "metadata": {
      "needs_background": "light"
     },
     "output_type": "display_data"
    }
   ],
   "source": [
    "# fitted pdf of Rayleigh\n",
    "plt.hist(data_on_site,bins = 40,density = True)\n",
    "params = sc.rayleigh.fit(data_on_site)\n",
    "x = np.linspace(0, max(data_on_site), 200)\n",
    "pdf_fitted = sc.rayleigh.pdf(x,params[0],params[1])\n",
    "plt.plot(x,pdf_fitted)"
   ]
  },
  {
   "cell_type": "code",
   "execution_count": 14,
   "metadata": {
    "colab": {
     "base_uri": "https://localhost:8080/",
     "height": 265
    },
    "colab_type": "code",
    "id": "HIhbBxNSI_8z",
    "outputId": "3de8b439-5bb4-482f-8128-0cc644c3c8d5"
   },
   "outputs": [
    {
     "data": {
      "image/png": "[encoded data removed]",
      "text/plain": [
       "<Figure size 432x288 with 1 Axes>"
      ]
     },
     "metadata": {
      "needs_background": "light"
     },
     "output_type": "display_data"
    }
   ],
   "source": [
    "# QQ-plot of Rayleigh\n",
    "Z = sc.rayleigh.ppf((range(n_on_site) + 0.5*np.ones(n_on_site))/n_on_site, *param[:-2], loc=param[-2], scale=param[-1])\n",
    "plt.scatter(np.sort(data_on_site), Z, s=5);\n",
    "plt.plot([0, np.max(data_on_site)], [0, np.max(data_on_site)], ':r');"
   ]
  },
  {
   "cell_type": "code",
   "execution_count": 15,
   "metadata": {
    "colab": {
     "base_uri": "https://localhost:8080/",
     "height": 68
    },
    "colab_type": "code",
    "id": "X8ETnfAUHL7k",
    "outputId": "57bfea15-f836-46e9-d3ec-a7623cff0fef"
   },
   "outputs": [
    {
     "name": "stderr",
     "output_type": "stream",
     "text": [
      "/Users/ankitajain/anaconda3/lib/python3.7/site-packages/scipy/stats/_continuous_distns.py:515: RuntimeWarning: invalid value encountered in sqrt\n",
      "  sk = 2*(b-a)*np.sqrt(a + b + 1) / (a + b + 2) / np.sqrt(a*b)\n"
     ]
    },
    {
     "data": {
      "text/plain": [
       "0.6979057408649625"
      ]
     },
     "execution_count": 15,
     "metadata": {},
     "output_type": "execute_result"
    }
   ],
   "source": [
    "# Beta fit\n",
    "param = sc.beta.fit(data_on_site)\n",
    "\n",
    "# K-S test\n",
    "test_stat, p_value = sc.stats.kstest(data_on_site,'beta',args=param)\n",
    "p_value"
   ]
  },
  {
   "cell_type": "code",
   "execution_count": 16,
   "metadata": {
    "colab": {
     "base_uri": "https://localhost:8080/",
     "height": 316
    },
    "colab_type": "code",
    "id": "kx9h17zt-kyO",
    "outputId": "2a05a18f-1eb0-42f4-b8c5-2cf1fbcc6000"
   },
   "outputs": [
    {
     "data": {
      "text/plain": [
       "[<matplotlib.lines.Line2D at 0x1a163df3c8>]"
      ]
     },
     "execution_count": 16,
     "metadata": {},
     "output_type": "execute_result"
    },
    {
     "data": {
      "image/png": "[encoded data removed]",
      "text/plain": [
       "<Figure size 432x288 with 1 Axes>"
      ]
     },
     "metadata": {
      "needs_background": "light"
     },
     "output_type": "display_data"
    }
   ],
   "source": [
    "# pdf of fitted Beta \n",
    "plt.hist(data_on_site,bins = 40,density = True)\n",
    "params = sc.beta.fit(data_on_site)\n",
    "x = np.linspace(0, max(data_on_site), 200)\n",
    "pdf_fitted = sc.beta.pdf(x,params[0],params[1],params[2],params[3])\n",
    "plt.plot(x,pdf_fitted)"
   ]
  },
  {
   "cell_type": "code",
   "execution_count": 17,
   "metadata": {
    "colab": {
     "base_uri": "https://localhost:8080/",
     "height": 269
    },
    "colab_type": "code",
    "id": "N7xtU2juKEmd",
    "outputId": "152ae6ea-5a30-486b-d13c-7f26849488f8"
   },
   "outputs": [
    {
     "data": {
      "image/png": "[encoded data removed]",
      "text/plain": [
       "<Figure size 432x288 with 1 Axes>"
      ]
     },
     "metadata": {
      "needs_background": "light"
     },
     "output_type": "display_data"
    }
   ],
   "source": [
    "# QQ-plot\n",
    "Z = sc.beta.ppf((range(n_on_site) + 0.5*np.ones(n_on_site))/n_on_site, *param[:-2], loc=param[-2], scale=param[-1])\n",
    "plt.scatter(np.sort(data_on_site), Z, s=5);\n",
    "plt.plot([0, np.max(data_on_site)], [0, np.max(data_on_site)], ':r');"
   ]
  },
  {
   "cell_type": "markdown",
   "metadata": {
    "colab_type": "text",
    "id": "PiF5l_09fUnA"
   },
   "source": [
    "4. (a) No"
   ]
  },
  {
   "cell_type": "code",
   "execution_count": 18,
   "metadata": {
    "colab": {
     "base_uri": "https://localhost:8080/",
     "height": 812
    },
    "colab_type": "code",
    "id": "a-RjZk0V_rbG",
    "outputId": "d6b914b5-84f3-471d-98e8-da99b132ae3b"
   },
   "outputs": [
    {
     "data": {
      "text/plain": [
       "(array([  3.,   1.,   1.,   2.,   2.,   3.,   2.,   6.,  11.,   6.,  14.,\n",
       "         24.,  16.,  32.,  28.,  42.,  41.,  62.,  70.,  89., 113., 115.,\n",
       "        130., 162., 171., 189., 220., 218., 233., 241., 236., 274., 265.,\n",
       "        287., 272., 252., 241., 221., 231., 191., 182., 166., 157., 128.,\n",
       "        128., 119.,  91.,  93.,  98.,  92.,  72.,  61.,  70.,  76.,  66.,\n",
       "         74.,  63.,  55.,  58.,  47.,  42.,  50.,  36.,  39.,  33.,  35.,\n",
       "         29.,  29.,  28.,  17.,  21.,  26.,  21.,  18.,  13.,  12.,  15.,\n",
       "         15.,   8.,   9.,   5.,   8.,   6.,   6.,   4.,   8.,   4.,   2.,\n",
       "          1.,   1.,   2.,   1.,   0.,   2.,   0.,   1.,   1.,   0.,   0.,\n",
       "          2.]),\n",
       " array([ 5.14951037,  5.49573133,  5.84195229,  6.18817325,  6.5343942 ,\n",
       "         6.88061516,  7.22683612,  7.57305708,  7.91927803,  8.26549899,\n",
       "         8.61171995,  8.9579409 ,  9.30416186,  9.65038282,  9.99660378,\n",
       "        10.34282473, 10.68904569, 11.03526665, 11.38148761, 11.72770856,\n",
       "        12.07392952, 12.42015048, 12.76637144, 13.11259239, 13.45881335,\n",
       "        13.80503431, 14.15125527, 14.49747622, 14.84369718, 15.18991814,\n",
       "        15.53613909, 15.88236005, 16.22858101, 16.57480197, 16.92102292,\n",
       "        17.26724388, 17.61346484, 17.9596858 , 18.30590675, 18.65212771,\n",
       "        18.99834867, 19.34456963, 19.69079058, 20.03701154, 20.3832325 ,\n",
       "        20.72945346, 21.07567441, 21.42189537, 21.76811633, 22.11433728,\n",
       "        22.46055824, 22.8067792 , 23.15300016, 23.49922111, 23.84544207,\n",
       "        24.19166303, 24.53788399, 24.88410494, 25.2303259 , 25.57654686,\n",
       "        25.92276782, 26.26898877, 26.61520973, 26.96143069, 27.30765165,\n",
       "        27.6538726 , 28.00009356, 28.34631452, 28.69253547, 29.03875643,\n",
       "        29.38497739, 29.73119835, 30.0774193 , 30.42364026, 30.76986122,\n",
       "        31.11608218, 31.46230313, 31.80852409, 32.15474505, 32.50096601,\n",
       "        32.84718696, 33.19340792, 33.53962888, 33.88584983, 34.23207079,\n",
       "        34.57829175, 34.92451271, 35.27073366, 35.61695462, 35.96317558,\n",
       "        36.30939654, 36.65561749, 37.00183845, 37.34805941, 37.69428037,\n",
       "        38.04050132, 38.38672228, 38.73294324, 39.0791642 , 39.42538515,\n",
       "        39.77160611]),\n",
       " <a list of 100 Patch objects>)"
      ]
     },
     "execution_count": 18,
     "metadata": {},
     "output_type": "execute_result"
    },
    {
     "data": {
      "image/png": "[encoded data removed]",
      "text/plain": [
       "<Figure size 432x288 with 1 Axes>"
      ]
     },
     "metadata": {
      "needs_background": "light"
     },
     "output_type": "display_data"
    }
   ],
   "source": [
    "plt.hist(data['Initial diagnose time'],bins = 100)"
   ]
  },
  {
   "cell_type": "markdown",
   "metadata": {
    "colab_type": "text",
    "id": "RE02xhKJfsZe"
   },
   "source": [
    "(b) Values differ substantially for some BCs, namely, BC_2, BC_3 and BC_9."
   ]
  },
  {
   "cell_type": "code",
   "execution_count": 17,
   "metadata": {
    "colab": {
     "base_uri": "https://localhost:8080/",
     "height": 221
    },
    "colab_type": "code",
    "id": "Xn-ZuROcDj8H",
    "outputId": "119e07e3-c1e1-43aa-d150-4de6a78953dc"
   },
   "outputs": [
    {
     "data": {
      "text/plain": [
       "Request location\n",
       "BC_1     15.974684\n",
       "BC_10    16.109307\n",
       "BC_2     22.174312\n",
       "BC_3     22.009613\n",
       "BC_4     16.175101\n",
       "BC_5     16.200575\n",
       "BC_6     16.151506\n",
       "BC_7     16.011773\n",
       "BC_8     16.269802\n",
       "BC_9     22.236205\n",
       "Name: Initial diagnose time, dtype: float64"
      ]
     },
     "execution_count": 17,
     "metadata": {},
     "output_type": "execute_result"
    }
   ],
   "source": [
    "data.groupby(by = 'Request location')['Initial diagnose time'].mean()"
   ]
  },
  {
   "cell_type": "code",
   "execution_count": 18,
   "metadata": {
    "colab": {
     "base_uri": "https://localhost:8080/",
     "height": 221
    },
    "colab_type": "code",
    "id": "hWFV7gEXFbZT",
    "outputId": "f305cf3c-4b04-44c5-e8ec-34ed18f39204"
   },
   "outputs": [
    {
     "data": {
      "text/plain": [
       "Request location\n",
       "BC_1     2.954169\n",
       "BC_10    2.919997\n",
       "BC_2     5.248368\n",
       "BC_3     5.405268\n",
       "BC_4     2.851679\n",
       "BC_5     2.882792\n",
       "BC_6     2.847626\n",
       "BC_7     2.923965\n",
       "BC_8     2.875527\n",
       "BC_9     5.358455\n",
       "Name: Initial diagnose time, dtype: float64"
      ]
     },
     "execution_count": 18,
     "metadata": {},
     "output_type": "execute_result"
    }
   ],
   "source": [
    "data.groupby(by = 'Request location')['Initial diagnose time'].std()"
   ]
  },
  {
   "cell_type": "markdown",
   "metadata": {
    "colab_type": "text",
    "id": "mlfXCUVDjkho"
   },
   "source": [
    "(c) we divide the data points into to groups:\n",
    "*   Group 1: BC2, BC3, BC9 (similar $\\hat\\mu,\\hat\\sigma$)\n",
    "*   Group 2: all others (similar $\\hat\\mu, \\hat\\sigma$)"
   ]
  },
  {
   "cell_type": "markdown",
   "metadata": {
    "colab_type": "text",
    "id": "ovHBHUdXjo-K"
   },
   "source": [
    "(d) We model initial diagnosis times for BCs in Group 1 from one distribution and model initial diagnosis times for BCs in Group 2 from another distribution.\n",
    "\n",
    "For both groups, we fit the data points using a normal distribution and perform a K-S test. The results show that normal distribtuion is a good fit for both groups. The fitted normal distributions are given below:\n",
    "\n",
    "*   Group 1: $N(\\hat\\mu = 16.13, \\hat\\sigma=2.89)$\n",
    "*   Group 2: $N(\\hat\\mu = 22.15, \\hat\\sigma = 5.34)$"
   ]
  },
  {
   "cell_type": "code",
   "execution_count": 19,
   "metadata": {
    "colab": {
     "base_uri": "https://localhost:8080/",
     "height": 469
    },
    "colab_type": "code",
    "id": "ncQgGyPaM4AY",
    "outputId": "015b7c3c-3172-48cf-a715-f7be437ddb83"
   },
   "outputs": [
    {
     "data": {
      "text/plain": [
       "(array([0.00092338, 0.00215455, 0.00369352, 0.00523248, 0.008926  ,\n",
       "        0.01662082, 0.02523902, 0.03324164, 0.05047804, 0.05817286,\n",
       "        0.06248197, 0.06740665, 0.07356251, 0.07910278, 0.06586769,\n",
       "        0.05109363, 0.03878191, 0.02831695, 0.01969875, 0.01446627,\n",
       "        0.00769482, 0.00554027, 0.00153896, 0.00092338, 0.00092338]),\n",
       " array([ 5.14951037,  6.5343942 ,  7.91927803,  9.30416186, 10.68904569,\n",
       "        12.07392952, 13.45881335, 14.84369718, 16.22858101, 17.61346484,\n",
       "        18.99834867, 20.3832325 , 21.76811633, 23.15300016, 24.53788399,\n",
       "        25.92276782, 27.30765165, 28.69253547, 30.0774193 , 31.46230313,\n",
       "        32.84718696, 34.23207079, 35.61695462, 37.00183845, 38.38672228,\n",
       "        39.77160611]),\n",
       " <a list of 25 Patch objects>)"
      ]
     },
     "execution_count": 19,
     "metadata": {},
     "output_type": "execute_result"
    },
    {
     "data": {
      "image/png": "[encoded data removed]",
      "text/plain": [
       "<Figure size 432x288 with 1 Axes>"
      ]
     },
     "metadata": {
      "needs_background": "light"
     },
     "output_type": "display_data"
    }
   ],
   "source": [
    "plt.hist(data[data['Request location'].isin(['BC_2','BC_3','BC_9'])]['Initial diagnose time'],bins = 25,density = True)"
   ]
  },
  {
   "cell_type": "code",
   "execution_count": 20,
   "metadata": {
    "colab": {
     "base_uri": "https://localhost:8080/",
     "height": 469
    },
    "colab_type": "code",
    "id": "hL_TlJTNNWFi",
    "outputId": "ae939d4d-0702-452b-9a56-5fe4a558238d"
   },
   "outputs": [
    {
     "data": {
      "text/plain": [
       "(array([0.00049278, 0.00073916, 0.00098555, 0.00418859, 0.00862358,\n",
       "        0.01478328, 0.02389963, 0.04163956, 0.06282892, 0.08549661,\n",
       "        0.10890346, 0.12171563, 0.13575974, 0.14265861, 0.12417951,\n",
       "        0.10299015, 0.07810497, 0.05321979, 0.03547986, 0.01921826,\n",
       "        0.01108746, 0.00394221, 0.00369582, 0.00147833, 0.00073916]),\n",
       " array([ 5.33424476,  6.17681079,  7.01937681,  7.86194284,  8.70450887,\n",
       "         9.54707489, 10.38964092, 11.23220695, 12.07477298, 12.917339  ,\n",
       "        13.75990503, 14.60247106, 15.44503709, 16.28760311, 17.13016914,\n",
       "        17.97273517, 18.81530119, 19.65786722, 20.50043325, 21.34299928,\n",
       "        22.1855653 , 23.02813133, 23.87069736, 24.71326339, 25.55582941,\n",
       "        26.39839544]),\n",
       " <a list of 25 Patch objects>)"
      ]
     },
     "execution_count": 20,
     "metadata": {},
     "output_type": "execute_result"
    },
    {
     "data": {
      "image/png": "[encoded data removed]",
      "text/plain": [
       "<Figure size 432x288 with 1 Axes>"
      ]
     },
     "metadata": {
      "needs_background": "light"
     },
     "output_type": "display_data"
    }
   ],
   "source": [
    "plt.hist(data[data['Request location'].isin(['BC_1','BC_10','BC_4','BC_5','BC_6','BC_7','BC_8'])]['Initial diagnose time'],bins = 25,density = True)"
   ]
  },
  {
   "cell_type": "code",
   "execution_count": 21,
   "metadata": {
    "colab": {
     "base_uri": "https://localhost:8080/",
     "height": 34
    },
    "colab_type": "code",
    "id": "IfvUe3WCON1p",
    "outputId": "c8690077-fb25-4e0a-bbc6-5b2bd0558339"
   },
   "outputs": [
    {
     "data": {
      "text/plain": [
       "0.8546626039428126"
      ]
     },
     "execution_count": 21,
     "metadata": {},
     "output_type": "execute_result"
    }
   ],
   "source": [
    "param = sc.norm.fit(data[data['Request location'].isin(['BC_1','BC_10','BC_4','BC_5','BC_6','BC_7','BC_8'])]['Initial diagnose time'])\n",
    "test_stat, p_value = sc.stats.kstest(data[data['Request location'].isin(['BC_1','BC_10','BC_4','BC_5','BC_6','BC_7','BC_8'])]['Initial diagnose time'],'norm',args=param)\n",
    "p_value"
   ]
  },
  {
   "cell_type": "code",
   "execution_count": 22,
   "metadata": {
    "colab": {
     "base_uri": "https://localhost:8080/",
     "height": 34
    },
    "colab_type": "code",
    "id": "7cK75zdFk8qv",
    "outputId": "334b091a-bae7-424b-f680-6e546bbebd4b"
   },
   "outputs": [
    {
     "data": {
      "text/plain": [
       "(16.13003269338821, 2.8919908783753776)"
      ]
     },
     "execution_count": 22,
     "metadata": {},
     "output_type": "execute_result"
    }
   ],
   "source": [
    "param"
   ]
  },
  {
   "cell_type": "code",
   "execution_count": 23,
   "metadata": {
    "colab": {
     "base_uri": "https://localhost:8080/",
     "height": 34
    },
    "colab_type": "code",
    "id": "Fy3EmIb2Of-g",
    "outputId": "ea4739e1-5c61-4d5d-e700-cfd611118821"
   },
   "outputs": [
    {
     "data": {
      "text/plain": [
       "0.8499948365526829"
      ]
     },
     "execution_count": 23,
     "metadata": {},
     "output_type": "execute_result"
    }
   ],
   "source": [
    "param = sc.norm.fit(data[data['Request location'].isin(['BC_2','BC_3','BC_9'])]['Initial diagnose time'])\n",
    "test_stat, p_value = sc.stats.kstest(data[data['Request location'].isin(['BC_2','BC_3','BC_9'])]['Initial diagnose time'],'norm',args=param)\n",
    "p_value"
   ]
  },
  {
   "cell_type": "code",
   "execution_count": 24,
   "metadata": {
    "colab": {
     "base_uri": "https://localhost:8080/",
     "height": 34
    },
    "colab_type": "code",
    "id": "nzmoH7syk-m3",
    "outputId": "9eaf00dc-39e2-4d4b-933a-9af9429ac9a4"
   },
   "outputs": [
    {
     "data": {
      "text/plain": [
       "(22.146030890908783, 5.344128929273767)"
      ]
     },
     "execution_count": 24,
     "metadata": {},
     "output_type": "execute_result"
    }
   ],
   "source": [
    "param"
   ]
  },
  {
   "cell_type": "markdown",
   "metadata": {
    "colab_type": "text",
    "id": "-RrvHPQEhzUQ"
   },
   "source": [
    "5. For each business center $j$ ($j=1,2,\\cdots, 10)$\n",
    "$$\n",
    "\\hat p_j = \\frac{1}{n}\\sum_{i=1}^{n}1_{\\{\\text{call }i\\text{ originates at }j\\}}\n",
    "$$\n",
    "$$\n",
    "\\hat \\sigma_{j} \\approx \\sqrt{\\hat p_{j}(1-\\hat p_{j})}.\n",
    "$$\n",
    "\n",
    "Then the confidence interval for $p_{j}$ is \n",
    "$$\n",
    "[\\hat p_j - z_{\\alpha/2}\\frac{\\hat \\sigma_j}{\\sqrt{n}},\\hat p_j + z_{\\alpha/2}\\frac{\\hat \\sigma_j}{\\sqrt{n}}] \n",
    "$$\n",
    "where $\\alpha = 0.05$."
   ]
  },
  {
   "cell_type": "code",
   "execution_count": 25,
   "metadata": {
    "colab": {},
    "colab_type": "code",
    "id": "4Q0pV9C7PB3u"
   },
   "outputs": [],
   "source": [
    "p_hat = data.groupby(by = 'Request location')['Initial diagnose time'].size() / n\n",
    "std = np.sqrt(p_hat * (1-p_hat))\n",
    "LB = p_hat - sc.norm.ppf(1-0.05/2) * std / np.sqrt(n)\n",
    "UB = p_hat + sc.norm.ppf(1-0.05/2) * std / np.sqrt(n)"
   ]
  },
  {
   "cell_type": "code",
   "execution_count": 26,
   "metadata": {
    "colab": {
     "base_uri": "https://localhost:8080/",
     "height": 390
    },
    "colab_type": "code",
    "id": "umrXlsQmQI6M",
    "outputId": "afd8a7ef-db47-4fd6-ea9e-ed356fee6ee7"
   },
   "outputs": [
    {
     "data": {
      "text/html": [
       "<div>\n",
       "<style scoped>\n",
       "    .dataframe tbody tr th:only-of-type {\n",
       "        vertical-align: middle;\n",
       "    }\n",
       "\n",
       "    .dataframe tbody tr th {\n",
       "        vertical-align: top;\n",
       "    }\n",
       "\n",
       "    .dataframe thead th {\n",
       "        text-align: right;\n",
       "    }\n",
       "</style>\n",
       "<table border=\"1\" class=\"dataframe\">\n",
       "  <thead>\n",
       "    <tr style=\"text-align: right;\">\n",
       "      <th></th>\n",
       "      <th>LB</th>\n",
       "      <th>UB</th>\n",
       "    </tr>\n",
       "    <tr>\n",
       "      <th>Request location</th>\n",
       "      <th></th>\n",
       "      <th></th>\n",
       "    </tr>\n",
       "  </thead>\n",
       "  <tbody>\n",
       "    <tr>\n",
       "      <th>BC_1</th>\n",
       "      <td>0.034997</td>\n",
       "      <td>0.044020</td>\n",
       "    </tr>\n",
       "    <tr>\n",
       "      <th>BC_10</th>\n",
       "      <td>0.134306</td>\n",
       "      <td>0.150491</td>\n",
       "    </tr>\n",
       "    <tr>\n",
       "      <th>BC_2</th>\n",
       "      <td>0.075732</td>\n",
       "      <td>0.088445</td>\n",
       "    </tr>\n",
       "    <tr>\n",
       "      <th>BC_3</th>\n",
       "      <td>0.100730</td>\n",
       "      <td>0.115101</td>\n",
       "    </tr>\n",
       "    <tr>\n",
       "      <th>BC_4</th>\n",
       "      <td>0.127494</td>\n",
       "      <td>0.143342</td>\n",
       "    </tr>\n",
       "    <tr>\n",
       "      <th>BC_5</th>\n",
       "      <td>0.110905</td>\n",
       "      <td>0.125868</td>\n",
       "    </tr>\n",
       "    <tr>\n",
       "      <th>BC_6</th>\n",
       "      <td>0.049725</td>\n",
       "      <td>0.060285</td>\n",
       "    </tr>\n",
       "    <tr>\n",
       "      <th>BC_7</th>\n",
       "      <td>0.116203</td>\n",
       "      <td>0.131459</td>\n",
       "    </tr>\n",
       "    <tr>\n",
       "      <th>BC_8</th>\n",
       "      <td>0.052526</td>\n",
       "      <td>0.063347</td>\n",
       "    </tr>\n",
       "    <tr>\n",
       "      <th>BC_9</th>\n",
       "      <td>0.129537</td>\n",
       "      <td>0.145488</td>\n",
       "    </tr>\n",
       "  </tbody>\n",
       "</table>\n",
       "</div>"
      ],
      "text/plain": [
       "                        LB        UB\n",
       "Request location                    \n",
       "BC_1              0.034997  0.044020\n",
       "BC_10             0.134306  0.150491\n",
       "BC_2              0.075732  0.088445\n",
       "BC_3              0.100730  0.115101\n",
       "BC_4              0.127494  0.143342\n",
       "BC_5              0.110905  0.125868\n",
       "BC_6              0.049725  0.060285\n",
       "BC_7              0.116203  0.131459\n",
       "BC_8              0.052526  0.063347\n",
       "BC_9              0.129537  0.145488"
      ]
     },
     "execution_count": 26,
     "metadata": {},
     "output_type": "execute_result"
    }
   ],
   "source": [
    "CI = pd.concat([LB,UB], axis = 1)\n",
    "CI.columns = ['LB','UB']\n",
    "CI"
   ]
  },
  {
   "cell_type": "markdown",
   "metadata": {
    "colab_type": "text",
    "id": "puIC8B6jhaFN"
   },
   "source": [
    "6. We find number of arrivals during each hour of the day over the 60 days of data. Then, calculate the estimated arrival rate for each hour\n",
    "$$\n",
    "\\hat{\\lambda_{i}} = \\frac{\\# arrival_{i}}{60},\\quad i=0,1,\\cdots, 23.\n",
    "$$"
   ]
  },
  {
   "cell_type": "code",
   "execution_count": 27,
   "metadata": {
    "colab": {},
    "colab_type": "code",
    "id": "8zNn1cxWUjRL"
   },
   "outputs": [],
   "source": [
    "emp_rate = data.groupby(data['Time of day'].apply(np.floor)).size() / 60\n",
    "emp_rate = emp_rate.values"
   ]
  },
  {
   "cell_type": "markdown",
   "metadata": {
    "colab_type": "text",
    "id": "AGLoTqlhhnf9"
   },
   "source": [
    "By plotting the empirical rates, we observe that the rate function is approximately quadratic between 3am and 22pm. We fit a quadratic function to the estimated hourly rates:\n",
    "$$\n",
    "\\lambda(i) = -0.067i^2 +1.581i-1.289.\n",
    "$$\n",
    "We assume the rate is constant for the other hours, which is estimated to be 1.137. We plot the fitted rate function against the empirical rates and see that it is a good fit."
   ]
  },
  {
   "cell_type": "code",
   "execution_count": 28,
   "metadata": {
    "colab": {
     "base_uri": "https://localhost:8080/",
     "height": 282
    },
    "colab_type": "code",
    "id": "DUrn1uzUQTXc",
    "outputId": "27616ea8-6e1e-45c8-d721-00439cf47d9a"
   },
   "outputs": [
    {
     "data": {
      "text/plain": [
       "<matplotlib.collections.PathCollection at 0x1ae6054b780>"
      ]
     },
     "execution_count": 28,
     "metadata": {},
     "output_type": "execute_result"
    },
    {
     "data": {
      "image/png": "[encoded data removed]",
      "text/plain": [
       "<Figure size 432x288 with 1 Axes>"
      ]
     },
     "metadata": {
      "needs_background": "light"
     },
     "output_type": "display_data"
    }
   ],
   "source": [
    "plt.scatter(np.arange(24),emp_rate)"
   ]
  },
  {
   "cell_type": "code",
   "execution_count": 29,
   "metadata": {
    "colab": {
     "base_uri": "https://localhost:8080/",
     "height": 34
    },
    "colab_type": "code",
    "id": "5zk-WoXGSoMi",
    "outputId": "27482632-3be6-4a51-fbe3-c9c623ede277"
   },
   "outputs": [
    {
     "data": {
      "text/plain": [
       "array([-0.0672404 ,  1.5811089 , -1.28926581])"
      ]
     },
     "execution_count": 29,
     "metadata": {},
     "output_type": "execute_result"
    }
   ],
   "source": [
    "coeffs = np.polyfit(np.arange(3,22),emp_rate[3:22],deg = 2)\n",
    "coeffs"
   ]
  },
  {
   "cell_type": "code",
   "execution_count": 30,
   "metadata": {
    "colab": {
     "base_uri": "https://localhost:8080/",
     "height": 282
    },
    "colab_type": "code",
    "id": "qKQeSWK_TzNC",
    "outputId": "ebd71e99-bfc8-424a-a4fc-86dcb560d026"
   },
   "outputs": [
    {
     "data": {
      "text/plain": [
       "[<matplotlib.lines.Line2D at 0x1ae604cbb38>]"
      ]
     },
     "execution_count": 30,
     "metadata": {},
     "output_type": "execute_result"
    },
    {
     "data": {
      "image/png": "[encoded data removed]",
      "text/plain": [
       "<Figure size 432x288 with 1 Axes>"
      ]
     },
     "metadata": {
      "needs_background": "light"
     },
     "output_type": "display_data"
    }
   ],
   "source": [
    "fitted_rate = np.zeros(24)\n",
    "fitted_rate[3:22] = coeffs[0]*np.arange(3,22) ** 2 + coeffs[1]*np.arange(3,22) + coeffs[2]\n",
    "fitted_rate[[0,1,2,22,23]] = np.mean(emp_rate[[0,1,2,22,23]])\n",
    "plt.scatter(np.arange(24),emp_rate)\n",
    "plt.plot(np.arange(24),fitted_rate)"
   ]
  },
  {
   "cell_type": "code",
   "execution_count": 31,
   "metadata": {
    "colab": {
     "base_uri": "https://localhost:8080/",
     "height": 793
    },
    "colab_type": "code",
    "id": "MRvXbQtrUZXT",
    "outputId": "e115bbed-4bf9-47bc-ba26-4e06091ccd41"
   },
   "outputs": [
    {
     "data": {
      "text/html": [
       "<div>\n",
       "<style scoped>\n",
       "    .dataframe tbody tr th:only-of-type {\n",
       "        vertical-align: middle;\n",
       "    }\n",
       "\n",
       "    .dataframe tbody tr th {\n",
       "        vertical-align: top;\n",
       "    }\n",
       "\n",
       "    .dataframe thead th {\n",
       "        text-align: right;\n",
       "    }\n",
       "</style>\n",
       "<table border=\"1\" class=\"dataframe\">\n",
       "  <thead>\n",
       "    <tr style=\"text-align: right;\">\n",
       "      <th></th>\n",
       "      <th>fitted rate</th>\n",
       "    </tr>\n",
       "  </thead>\n",
       "  <tbody>\n",
       "    <tr>\n",
       "      <th>0</th>\n",
       "      <td>1.136667</td>\n",
       "    </tr>\n",
       "    <tr>\n",
       "      <th>1</th>\n",
       "      <td>1.136667</td>\n",
       "    </tr>\n",
       "    <tr>\n",
       "      <th>2</th>\n",
       "      <td>1.136667</td>\n",
       "    </tr>\n",
       "    <tr>\n",
       "      <th>3</th>\n",
       "      <td>2.848897</td>\n",
       "    </tr>\n",
       "    <tr>\n",
       "      <th>4</th>\n",
       "      <td>3.959323</td>\n",
       "    </tr>\n",
       "    <tr>\n",
       "      <th>5</th>\n",
       "      <td>4.935269</td>\n",
       "    </tr>\n",
       "    <tr>\n",
       "      <th>6</th>\n",
       "      <td>5.776733</td>\n",
       "    </tr>\n",
       "    <tr>\n",
       "      <th>7</th>\n",
       "      <td>6.483717</td>\n",
       "    </tr>\n",
       "    <tr>\n",
       "      <th>8</th>\n",
       "      <td>7.056219</td>\n",
       "    </tr>\n",
       "    <tr>\n",
       "      <th>9</th>\n",
       "      <td>7.494241</td>\n",
       "    </tr>\n",
       "    <tr>\n",
       "      <th>10</th>\n",
       "      <td>7.797783</td>\n",
       "    </tr>\n",
       "    <tr>\n",
       "      <th>11</th>\n",
       "      <td>7.966843</td>\n",
       "    </tr>\n",
       "    <tr>\n",
       "      <th>12</th>\n",
       "      <td>8.001423</td>\n",
       "    </tr>\n",
       "    <tr>\n",
       "      <th>13</th>\n",
       "      <td>7.901521</td>\n",
       "    </tr>\n",
       "    <tr>\n",
       "      <th>14</th>\n",
       "      <td>7.667139</td>\n",
       "    </tr>\n",
       "    <tr>\n",
       "      <th>15</th>\n",
       "      <td>7.298277</td>\n",
       "    </tr>\n",
       "    <tr>\n",
       "      <th>16</th>\n",
       "      <td>6.794933</td>\n",
       "    </tr>\n",
       "    <tr>\n",
       "      <th>17</th>\n",
       "      <td>6.157108</td>\n",
       "    </tr>\n",
       "    <tr>\n",
       "      <th>18</th>\n",
       "      <td>5.384803</td>\n",
       "    </tr>\n",
       "    <tr>\n",
       "      <th>19</th>\n",
       "      <td>4.478017</td>\n",
       "    </tr>\n",
       "    <tr>\n",
       "      <th>20</th>\n",
       "      <td>3.436750</td>\n",
       "    </tr>\n",
       "    <tr>\n",
       "      <th>21</th>\n",
       "      <td>2.261003</td>\n",
       "    </tr>\n",
       "    <tr>\n",
       "      <th>22</th>\n",
       "      <td>1.136667</td>\n",
       "    </tr>\n",
       "    <tr>\n",
       "      <th>23</th>\n",
       "      <td>1.136667</td>\n",
       "    </tr>\n",
       "  </tbody>\n",
       "</table>\n",
       "</div>"
      ],
      "text/plain": [
       "    fitted rate\n",
       "0      1.136667\n",
       "1      1.136667\n",
       "2      1.136667\n",
       "3      2.848897\n",
       "4      3.959323\n",
       "5      4.935269\n",
       "6      5.776733\n",
       "7      6.483717\n",
       "8      7.056219\n",
       "9      7.494241\n",
       "10     7.797783\n",
       "11     7.966843\n",
       "12     8.001423\n",
       "13     7.901521\n",
       "14     7.667139\n",
       "15     7.298277\n",
       "16     6.794933\n",
       "17     6.157108\n",
       "18     5.384803\n",
       "19     4.478017\n",
       "20     3.436750\n",
       "21     2.261003\n",
       "22     1.136667\n",
       "23     1.136667"
      ]
     },
     "execution_count": 31,
     "metadata": {},
     "output_type": "execute_result"
    }
   ],
   "source": [
    "pd.DataFrame(data = fitted_rate,columns = ['fitted rate'])"
   ]
  },
  {
   "cell_type": "markdown",
   "metadata": {
    "colab_type": "text",
    "id": "KuzQz8g5VUCL"
   },
   "source": [
    "7. From the desciprtion of the project, we know the swap time for disbatch center is distributed as $Triangular(min = 10,max = 25,mostlikely = 15)$ and the swap time for customer location is distributed as $Triangular(min = 20,max = 60,mostlikely = 30)$."
   ]
  }
 ],
 "metadata": {
  "colab": {
   "collapsed_sections": [],
   "name": "Input_Analysis.ipynb",
   "provenance": []
  },
  "kernelspec": {
   "display_name": "Python 3",
   "language": "python",
   "name": "python3"
  },
  "language_info": {
   "codemirror_mode": {
    "name": "ipython",
    "version": 3
   },
   "file_extension": ".py",
   "mimetype": "text/x-python",
   "name": "python",
   "nbconvert_exporter": "python",
   "pygments_lexer": "ipython3",
   "version": "3.7.3"
  }
 },
 "nbformat": 4,
 "nbformat_minor": 1
}
