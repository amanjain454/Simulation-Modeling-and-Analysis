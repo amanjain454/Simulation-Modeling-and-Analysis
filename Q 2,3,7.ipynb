{
 "cells": [
  {
   "cell_type": "markdown",
   "metadata": {},
   "source": [
    "## Q2, Q3 and Q7 for the input analysis problem. "
   ]
  },
  {
   "cell_type": "code",
   "execution_count": 1,
   "metadata": {},
   "outputs": [],
   "source": [
    "import numpy as np\n",
    "import matplotlib.pyplot as plt\n",
    "import math\n",
    "import scipy\n",
    "import scipy.stats as st\n",
    "import pandas as pd \n",
    "from numpy import nan\n",
    "import scipy.stats as sc"
   ]
  },
  {
   "cell_type": "code",
   "execution_count": 2,
   "metadata": {},
   "outputs": [
    {
     "data": {
      "text/plain": [
       "(7172, 7)"
      ]
     },
     "execution_count": 2,
     "metadata": {},
     "output_type": "execute_result"
    }
   ],
   "source": [
    "data = pd.read_csv(\"TonerItDown.csv\")\n",
    "np.shape(data)"
   ]
  },
  {
   "cell_type": "code",
   "execution_count": 3,
   "metadata": {},
   "outputs": [
    {
     "data": {
      "text/html": [
       "<div>\n",
       "<style scoped>\n",
       "    .dataframe tbody tr th:only-of-type {\n",
       "        vertical-align: middle;\n",
       "    }\n",
       "\n",
       "    .dataframe tbody tr th {\n",
       "        vertical-align: top;\n",
       "    }\n",
       "\n",
       "    .dataframe thead th {\n",
       "        text-align: right;\n",
       "    }\n",
       "</style>\n",
       "<table border=\"1\" class=\"dataframe\">\n",
       "  <thead>\n",
       "    <tr style=\"text-align: right;\">\n",
       "      <th></th>\n",
       "      <th>Request no</th>\n",
       "      <th>Day</th>\n",
       "      <th>Time of day</th>\n",
       "      <th>Request location</th>\n",
       "      <th>Initial diagnose time</th>\n",
       "      <th>Needs Replacement?</th>\n",
       "      <th>On-site repair time</th>\n",
       "    </tr>\n",
       "  </thead>\n",
       "  <tbody>\n",
       "    <tr>\n",
       "      <th>0</th>\n",
       "      <td>1</td>\n",
       "      <td>1</td>\n",
       "      <td>0.239113</td>\n",
       "      <td>BC_10</td>\n",
       "      <td>12.633020</td>\n",
       "      <td>NaN</td>\n",
       "      <td>22.125290</td>\n",
       "    </tr>\n",
       "    <tr>\n",
       "      <th>1</th>\n",
       "      <td>2</td>\n",
       "      <td>1</td>\n",
       "      <td>1.139550</td>\n",
       "      <td>BC_1</td>\n",
       "      <td>19.486501</td>\n",
       "      <td>yes</td>\n",
       "      <td>NaN</td>\n",
       "    </tr>\n",
       "    <tr>\n",
       "      <th>2</th>\n",
       "      <td>3</td>\n",
       "      <td>1</td>\n",
       "      <td>1.309831</td>\n",
       "      <td>BC_5</td>\n",
       "      <td>16.161550</td>\n",
       "      <td>NaN</td>\n",
       "      <td>7.349665</td>\n",
       "    </tr>\n",
       "    <tr>\n",
       "      <th>3</th>\n",
       "      <td>4</td>\n",
       "      <td>1</td>\n",
       "      <td>1.458689</td>\n",
       "      <td>BC_4</td>\n",
       "      <td>17.991248</td>\n",
       "      <td>NaN</td>\n",
       "      <td>31.835509</td>\n",
       "    </tr>\n",
       "    <tr>\n",
       "      <th>4</th>\n",
       "      <td>5</td>\n",
       "      <td>1</td>\n",
       "      <td>1.754376</td>\n",
       "      <td>BC_5</td>\n",
       "      <td>16.736394</td>\n",
       "      <td>NaN</td>\n",
       "      <td>10.733933</td>\n",
       "    </tr>\n",
       "  </tbody>\n",
       "</table>\n",
       "</div>"
      ],
      "text/plain": [
       "   Request no  Day  Time of day Request location  Initial diagnose time  \\\n",
       "0           1    1     0.239113            BC_10              12.633020   \n",
       "1           2    1     1.139550             BC_1              19.486501   \n",
       "2           3    1     1.309831             BC_5              16.161550   \n",
       "3           4    1     1.458689             BC_4              17.991248   \n",
       "4           5    1     1.754376             BC_5              16.736394   \n",
       "\n",
       "  Needs Replacement?  On-site repair time  \n",
       "0                NaN            22.125290  \n",
       "1                yes                  NaN  \n",
       "2                NaN             7.349665  \n",
       "3                NaN            31.835509  \n",
       "4                NaN            10.733933  "
      ]
     },
     "execution_count": 3,
     "metadata": {},
     "output_type": "execute_result"
    }
   ],
   "source": [
    "data.head(5)"
   ]
  },
  {
   "cell_type": "markdown",
   "metadata": {},
   "source": [
    "## Q2"
   ]
  },
  {
   "cell_type": "code",
   "execution_count": 4,
   "metadata": {},
   "outputs": [],
   "source": [
    "# function to calculate 95% CI of an array. \n",
    "def CI_95(X):\n",
    "    mean = np.mean(X)\n",
    "    LB = np.mean(X) - 1.96*np.std(X,ddof = 1)/np.sqrt(np.size(X))\n",
    "    UB = np.mean(X) + 1.96*np.std(X,ddof = 1)/np.sqrt(np.size(X))\n",
    "    return mean, LB, UB"
   ]
  },
  {
   "cell_type": "code",
   "execution_count": 5,
   "metadata": {},
   "outputs": [
    {
     "data": {
      "text/plain": [
       "(1294, 7)"
      ]
     },
     "execution_count": 5,
     "metadata": {},
     "output_type": "execute_result"
    }
   ],
   "source": [
    "np.shape(data[data[\"Needs Replacement?\"] == \"yes\"])"
   ]
  },
  {
   "cell_type": "code",
   "execution_count": 6,
   "metadata": {},
   "outputs": [
    {
     "data": {
      "text/plain": [
       "(1294, 7)"
      ]
     },
     "execution_count": 6,
     "metadata": {},
     "output_type": "execute_result"
    }
   ],
   "source": [
    "np.shape(data[np.isnan(data[\"On-site repair time\"])])"
   ]
  },
  {
   "cell_type": "markdown",
   "metadata": {},
   "source": [
    "<br>As can be seen above, all those requests that marks need replacements have no On-site repair time available. <br>Hence we can assume that whereever On-site rapair time is nan, there we need off-site repair. \n",
    "<br>This also assumes that every offsite replacement needs repair. \n",
    "<br>We are not considering impact of hour of request on on site/off site repair decision. \n",
    "<br>There might be cases where requests are place at office closure time hence offsite rapair was done, even though on site repair would have been possible. "
   ]
  },
  {
   "cell_type": "code",
   "execution_count": 7,
   "metadata": {},
   "outputs": [
    {
     "name": "stdout",
     "output_type": "stream",
     "text": [
      "fraction of customer requests that require off-site repair is  0.1804238706079197\n",
      "95% CI range is  0.17152350476732442 0.18932423644851498\n"
     ]
    }
   ],
   "source": [
    "Offsite_repair = np.isnan(data[\"On-site repair time\"])*1\n",
    "mean, LB, UB = CI_95(Offsite_repair)\n",
    "print(\"fraction of customer requests that require off-site repair is \", mean)\n",
    "print(\"95% CI range is \", LB,UB)"
   ]
  },
  {
   "cell_type": "markdown",
   "metadata": {},
   "source": [
    "<br> <b> fraction of customer requests that require off-site repair is  0.18\n",
    "<br> 95% CI range is  (0.17152, 0.1893) </b>"
   ]
  },
  {
   "cell_type": "markdown",
   "metadata": {},
   "source": [
    "## Q3"
   ]
  },
  {
   "cell_type": "code",
   "execution_count": 8,
   "metadata": {},
   "outputs": [
    {
     "data": {
      "text/plain": [
       "0       22.125290\n",
       "2        7.349665\n",
       "3       31.835509\n",
       "4       10.733933\n",
       "5       17.075570\n",
       "6       35.068595\n",
       "7       37.308511\n",
       "8       39.839388\n",
       "9       33.003310\n",
       "12      60.148816\n",
       "13       8.966096\n",
       "14      14.912936\n",
       "15      15.048912\n",
       "16      20.259774\n",
       "17      20.684003\n",
       "18      20.445788\n",
       "19      27.010334\n",
       "21      24.119693\n",
       "22      26.962708\n",
       "23      43.140592\n",
       "25      31.767042\n",
       "26      33.365783\n",
       "27      33.361201\n",
       "28      28.286649\n",
       "29       6.430361\n",
       "30      11.789026\n",
       "31       6.543758\n",
       "32      16.149842\n",
       "33      39.471514\n",
       "34      35.390860\n",
       "          ...    \n",
       "7142    48.139317\n",
       "7143    26.597868\n",
       "7144     7.611165\n",
       "7145    11.502652\n",
       "7146    23.033082\n",
       "7147    22.864028\n",
       "7148    22.489458\n",
       "7149    26.950339\n",
       "7150    33.695999\n",
       "7151    43.063678\n",
       "7152    32.248519\n",
       "7153    41.778819\n",
       "7154    20.293617\n",
       "7155    44.038762\n",
       "7156    14.096924\n",
       "7157     8.870955\n",
       "7158    24.957760\n",
       "7159    27.968556\n",
       "7160    19.889866\n",
       "7161     3.440138\n",
       "7162     7.941069\n",
       "7163     8.403874\n",
       "7164    42.663299\n",
       "7165    32.908809\n",
       "7166    35.781499\n",
       "7167    32.418479\n",
       "7168    20.738583\n",
       "7169    14.195968\n",
       "7170    54.224003\n",
       "7171     8.855825\n",
       "Name: On-site repair time, Length: 5878, dtype: float64"
      ]
     },
     "execution_count": 8,
     "metadata": {},
     "output_type": "execute_result"
    }
   ],
   "source": [
    "#removing nan\n",
    "Onsite_repair_time = data[(data[\"On-site repair time\"] >= 0)][\"On-site repair time\"]\n",
    "Onsite_repair_time"
   ]
  },
  {
   "cell_type": "code",
   "execution_count": 9,
   "metadata": {},
   "outputs": [
    {
     "data": {
      "text/plain": [
       "(array([ 454., 1189., 1407., 1183.,  907.,  426.,  213.,   76.,   15.,\n",
       "           8.]),\n",
       " array([ 0.16205745,  7.7866848 , 15.41131216, 23.03593951, 30.66056686,\n",
       "        38.28519422, 45.90982157, 53.53444892, 61.15907627, 68.78370363,\n",
       "        76.40833098]),\n",
       " <a list of 10 Patch objects>)"
      ]
     },
     "execution_count": 9,
     "metadata": {},
     "output_type": "execute_result"
    },
    {
     "data": {
      "image/png": "[encoded data removed]",
      "text/plain": [
       "<Figure size 432x288 with 1 Axes>"
      ]
     },
     "metadata": {
      "needs_background": "light"
     },
     "output_type": "display_data"
    }
   ],
   "source": [
    "plt.hist(Onsite_repair_time)"
   ]
  },
  {
   "cell_type": "markdown",
   "metadata": {},
   "source": [
    "<b>Prima facie from the histogram following distributions looks worth exploring: Normal, Beta, Raleigh, Gamma</b>"
   ]
  },
  {
   "cell_type": "code",
   "execution_count": 10,
   "metadata": {},
   "outputs": [
    {
     "data": {
      "image/png": "[encoded data removed]",
      "text/plain": [
       "<Figure size 432x288 with 1 Axes>"
      ]
     },
     "metadata": {
      "needs_background": "light"
     },
     "output_type": "display_data"
    }
   ],
   "source": [
    "## Norm\n",
    "\n",
    "loc,scale = sc.norm.fit(Onsite_repair_time)\n",
    "x = np.sort(Onsite_repair_time)\n",
    "plt.hist(x,density = 1)\n",
    "u = np.arange(0,80,80/np.size(x))\n",
    "fx = sc.norm.pdf(u,loc,scale)\n",
    "plt.plot(x, fx);"
   ]
  },
  {
   "cell_type": "code",
   "execution_count": 11,
   "metadata": {},
   "outputs": [
    {
     "data": {
      "text/plain": [
       "KstestResult(statistic=0.04893708722810736, pvalue=1.1858345823398563e-12)"
      ]
     },
     "execution_count": 11,
     "metadata": {},
     "output_type": "execute_result"
    },
    {
     "data": {
      "image/png": "[encoded data removed]",
      "text/plain": [
       "<Figure size 432x288 with 1 Axes>"
      ]
     },
     "metadata": {
      "needs_background": "light"
     },
     "output_type": "display_data"
    }
   ],
   "source": [
    "#Quantiles of distribution\n",
    "n = np.size(x)\n",
    "u = (range(1,n+1) - 0.5*np.ones(n))/n\n",
    "Dis = sc.norm.ppf(u,loc,scale)\n",
    "plt.scatter(x,Dis)\n",
    "plt.plot([0,80],[0,80],c='r')\n",
    "\n",
    "sc.kstest(x,'norm',args = (loc,scale)) # if pval > 0.05 fail to reject null hypothesis"
   ]
  },
  {
   "cell_type": "code",
   "execution_count": 12,
   "metadata": {},
   "outputs": [
    {
     "name": "stdout",
     "output_type": "stream",
     "text": [
      "2.617986716241127 7.461801823981 -0.46574608609621293 93.45180392115793\n"
     ]
    },
    {
     "name": "stderr",
     "output_type": "stream",
     "text": [
      "/Users/ankitajain/anaconda3/lib/python3.7/site-packages/scipy/stats/_continuous_distns.py:515: RuntimeWarning: invalid value encountered in sqrt\n",
      "  sk = 2*(b-a)*np.sqrt(a + b + 1) / (a + b + 2) / np.sqrt(a*b)\n"
     ]
    },
    {
     "data": {
      "text/plain": [
       "[<matplotlib.lines.Line2D at 0x1a21aee2b0>]"
      ]
     },
     "execution_count": 12,
     "metadata": {},
     "output_type": "execute_result"
    },
    {
     "data": {
      "image/png": "[encoded data removed]",
      "text/plain": [
       "<Figure size 432x288 with 1 Axes>"
      ]
     },
     "metadata": {
      "needs_background": "light"
     },
     "output_type": "display_data"
    }
   ],
   "source": [
    "## Beta\n",
    "\n",
    "a,b,loc,scale = sc.beta.fit(Onsite_repair_time)\n",
    "print(a,b,loc,scale)\n",
    "\n",
    "x = np.sort(Onsite_repair_time)\n",
    "plt.hist(x,density = 1)\n",
    "u = np.arange(0,80,80/n)\n",
    "fx = sc.beta.pdf(u,a,b,loc,scale)\n",
    "plt.plot(x, fx)"
   ]
  },
  {
   "cell_type": "code",
   "execution_count": 13,
   "metadata": {},
   "outputs": [
    {
     "data": {
      "text/plain": [
       "KstestResult(statistic=0.009315652385251283, pvalue=0.687462279791315)"
      ]
     },
     "execution_count": 13,
     "metadata": {},
     "output_type": "execute_result"
    },
    {
     "data": {
      "image/png": "[encoded data removed]",
      "text/plain": [
       "<Figure size 432x288 with 1 Axes>"
      ]
     },
     "metadata": {
      "needs_background": "light"
     },
     "output_type": "display_data"
    }
   ],
   "source": [
    "#Quantiles of distribution\n",
    "u = (range(1,n+1) - 0.5*np.ones(n))/n\n",
    "Dis = sc.beta.ppf(u,a,b,loc,scale)\n",
    "plt.scatter(x,Dis)\n",
    "plt.plot([0,80],[0,80],c='r')\n",
    "\n",
    "sc.kstest(x,'beta',args = (a,b,loc,scale)) # if pval > 0.05 fail to reject null hypothesis"
   ]
  },
  {
   "cell_type": "code",
   "execution_count": 14,
   "metadata": {},
   "outputs": [
    {
     "data": {
      "image/png": "[encoded data removed]",
      "text/plain": [
       "<Figure size 432x288 with 1 Axes>"
      ]
     },
     "metadata": {
      "needs_background": "light"
     },
     "output_type": "display_data"
    }
   ],
   "source": [
    "## Raleigh\n",
    "\n",
    "loc,scale = sc.rayleigh.fit(Onsite_repair_time)\n",
    "\n",
    "x = np.sort(Onsite_repair_time)\n",
    "plt.hist(x,density = 1)\n",
    "u = np.arange(0,80,80/n)\n",
    "fx = sc.rayleigh.pdf(u,loc,scale)\n",
    "plt.plot(x, fx);"
   ]
  },
  {
   "cell_type": "code",
   "execution_count": 15,
   "metadata": {},
   "outputs": [
    {
     "data": {
      "text/plain": [
       "KstestResult(statistic=0.010357084645583159, pvalue=0.5538395344963649)"
      ]
     },
     "execution_count": 15,
     "metadata": {},
     "output_type": "execute_result"
    },
    {
     "data": {
      "image/png": "[encoded data removed]",
      "text/plain": [
       "<Figure size 432x288 with 1 Axes>"
      ]
     },
     "metadata": {
      "needs_background": "light"
     },
     "output_type": "display_data"
    }
   ],
   "source": [
    "#Quantiles of distribution\n",
    "\n",
    "u = (range(1,n+1) - 0.5*np.ones(n))/n\n",
    "Dis = sc.rayleigh.ppf(u,loc,scale)\n",
    "plt.scatter(x,Dis)\n",
    "plt.plot([0,80],[0,80],c='r')\n",
    "\n",
    "sc.kstest(x,'rayleigh',args = (loc,scale)) # if pval > 0.05 fail to reject null hypothesis"
   ]
  },
  {
   "cell_type": "code",
   "execution_count": 16,
   "metadata": {},
   "outputs": [
    {
     "name": "stdout",
     "output_type": "stream",
     "text": [
      "5.326346074135864 -5.120337470139379 5.432227543631485\n"
     ]
    },
    {
     "data": {
      "image/png": "[encoded data removed]",
      "text/plain": [
       "<Figure size 432x288 with 1 Axes>"
      ]
     },
     "metadata": {
      "needs_background": "light"
     },
     "output_type": "display_data"
    }
   ],
   "source": [
    "## Gamma\n",
    "\n",
    "a,loc,scale = sc.gamma.fit(Onsite_repair_time)\n",
    "print (a,loc,scale)\n",
    "x = np.sort(Onsite_repair_time)\n",
    "plt.hist(x,density = 1)\n",
    "u = np.arange(0,80,80/n)\n",
    "fx = sc.gamma.pdf(u,a,loc,scale)\n",
    "plt.plot(x, fx);"
   ]
  },
  {
   "cell_type": "code",
   "execution_count": 17,
   "metadata": {},
   "outputs": [
    {
     "data": {
      "text/plain": [
       "KstestResult(statistic=0.02314073447651188, pvalue=0.003690049174504887)"
      ]
     },
     "execution_count": 17,
     "metadata": {},
     "output_type": "execute_result"
    },
    {
     "data": {
      "image/png": "[encoded data removed]",
      "text/plain": [
       "<Figure size 432x288 with 1 Axes>"
      ]
     },
     "metadata": {
      "needs_background": "light"
     },
     "output_type": "display_data"
    }
   ],
   "source": [
    "#Quantiles of distribution\n",
    "u = (range(1,n+1) - 0.5*np.ones(n))/n\n",
    "Dis = sc.gamma.ppf(u,a,loc,scale)\n",
    "plt.scatter(x,Dis)\n",
    "plt.plot([0,80],[0,80],c='r')\n",
    "\n",
    "sc.kstest(x,'gamma',args = (a,loc,scale)) # if pval > 0.05 fail to reject null hypothesis"
   ]
  },
  {
   "cell_type": "markdown",
   "metadata": {},
   "source": [
    "<br>From Q-Q plots - Beta,Raleigh and Gamma - all three looks good fit. However, going by p-value of ks test (at 95% level), we will be <b>modelling on-site repair time as Beta Distribution with parameters (a = 2.61, b=7.46, loc = -0.4657, sclae = 93.4518).</b>\n",
    "\n",
    "<br>For Normal, p-value = 1.1858345823398563e-12\n",
    "<br><b>For Beta, p-value = 0.687462279791315 </b>\n",
    "<br>For Raleigh, p-value = 0.5538395344963649  \n",
    "<br>For Gamma, p-value = 0.003690049174504887"
   ]
  },
  {
   "cell_type": "markdown",
   "metadata": {},
   "source": [
    "## Q7"
   ]
  },
  {
   "cell_type": "code",
   "execution_count": null,
   "metadata": {},
   "outputs": [],
   "source": []
  },
  {
   "cell_type": "markdown",
   "metadata": {},
   "source": [
    "<br>\"Van operators indicate that swapping a broken copier for a working one at the dispatch center can take as little <br>as 10 minutes, or as much as 25 minutes, but usually takes about 15 minutes.\"\n",
    "\n",
    "<br>\"Van operators indicated this usually takes about 30 minutes, but can take anywhere from 20 minutes to an hour\"\n",
    "\n",
    "<br><b>We will be using triangular distribution for copy swap times at both dispatch center and customer location. As we are given min, max and mode (most usual time) for both process. </b>\n",
    "\n",
    "<br>For swap time at dispatch center (all in minutes): \n",
    "<br>min = 10\n",
    "<br>most likely = 15\n",
    "<br>max = 25\n",
    "\n",
    "<br>For swap time at dispatch center (all in minutes): \n",
    "<br>min = 20\n",
    "<br>most likely = 30\n",
    "<br>max = 60"
   ]
  },
  {
   "cell_type": "code",
   "execution_count": 19,
   "metadata": {},
   "outputs": [
    {
     "name": "stdout",
     "output_type": "stream",
     "text": [
      "sample dispatch swap time:  [14.04920264]\n",
      "sample customer swap time:  [34.55339658]\n"
     ]
    }
   ],
   "source": [
    "swap_time_dispatch = np.random.triangular(10, 15, 25, size=1)  #unit in minutes. \n",
    "swap_time_customer = np.random.triangular(20, 30, 60, size=1)  #unit in minutes. \n",
    "print(\"sample dispatch swap time: \",swap_time_dispatch)\n",
    "print(\"sample customer swap time: \",swap_time_customer)"
   ]
  },
  {
   "cell_type": "code",
   "execution_count": null,
   "metadata": {},
   "outputs": [],
   "source": []
  }
 ],
 "metadata": {
  "kernelspec": {
   "display_name": "Python 3",
   "language": "python",
   "name": "python3"
  },
  "language_info": {
   "codemirror_mode": {
    "name": "ipython",
    "version": 3
   },
   "file_extension": ".py",
   "mimetype": "text/x-python",
   "name": "python",
   "nbconvert_exporter": "python",
   "pygments_lexer": "ipython3",
   "version": "3.7.3"
  }
 },
 "nbformat": 4,
 "nbformat_minor": 2
}
