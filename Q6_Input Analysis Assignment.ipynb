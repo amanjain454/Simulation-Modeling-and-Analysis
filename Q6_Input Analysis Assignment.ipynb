{
 "cells": [
  {
   "cell_type": "code",
   "execution_count": 1,
   "metadata": {},
   "outputs": [],
   "source": [
    "import pandas as pd\n",
    "import numpy as np\n",
    "import scipy.stats as st\n",
    "import matplotlib.pyplot as plt"
   ]
  },
  {
   "cell_type": "code",
   "execution_count": 2,
   "metadata": {},
   "outputs": [
    {
     "data": {
      "text/html": [
       "<div>\n",
       "<style scoped>\n",
       "    .dataframe tbody tr th:only-of-type {\n",
       "        vertical-align: middle;\n",
       "    }\n",
       "\n",
       "    .dataframe tbody tr th {\n",
       "        vertical-align: top;\n",
       "    }\n",
       "\n",
       "    .dataframe thead th {\n",
       "        text-align: right;\n",
       "    }\n",
       "</style>\n",
       "<table border=\"1\" class=\"dataframe\">\n",
       "  <thead>\n",
       "    <tr style=\"text-align: right;\">\n",
       "      <th></th>\n",
       "      <th>Request no</th>\n",
       "      <th>Day</th>\n",
       "      <th>Time of day</th>\n",
       "      <th>Request location</th>\n",
       "      <th>Initial diagnose time</th>\n",
       "      <th>Needs Replacement?</th>\n",
       "      <th>On-site repair time</th>\n",
       "    </tr>\n",
       "  </thead>\n",
       "  <tbody>\n",
       "    <tr>\n",
       "      <th>0</th>\n",
       "      <td>1</td>\n",
       "      <td>1</td>\n",
       "      <td>0.239113</td>\n",
       "      <td>BC_10</td>\n",
       "      <td>12.633020</td>\n",
       "      <td>NaN</td>\n",
       "      <td>22.125290</td>\n",
       "    </tr>\n",
       "    <tr>\n",
       "      <th>1</th>\n",
       "      <td>2</td>\n",
       "      <td>1</td>\n",
       "      <td>1.139550</td>\n",
       "      <td>BC_1</td>\n",
       "      <td>19.486501</td>\n",
       "      <td>yes</td>\n",
       "      <td>NaN</td>\n",
       "    </tr>\n",
       "    <tr>\n",
       "      <th>2</th>\n",
       "      <td>3</td>\n",
       "      <td>1</td>\n",
       "      <td>1.309831</td>\n",
       "      <td>BC_5</td>\n",
       "      <td>16.161550</td>\n",
       "      <td>NaN</td>\n",
       "      <td>7.349665</td>\n",
       "    </tr>\n",
       "    <tr>\n",
       "      <th>3</th>\n",
       "      <td>4</td>\n",
       "      <td>1</td>\n",
       "      <td>1.458689</td>\n",
       "      <td>BC_4</td>\n",
       "      <td>17.991248</td>\n",
       "      <td>NaN</td>\n",
       "      <td>31.835509</td>\n",
       "    </tr>\n",
       "    <tr>\n",
       "      <th>4</th>\n",
       "      <td>5</td>\n",
       "      <td>1</td>\n",
       "      <td>1.754376</td>\n",
       "      <td>BC_5</td>\n",
       "      <td>16.736394</td>\n",
       "      <td>NaN</td>\n",
       "      <td>10.733933</td>\n",
       "    </tr>\n",
       "  </tbody>\n",
       "</table>\n",
       "</div>"
      ],
      "text/plain": [
       "   Request no  Day  Time of day Request location  Initial diagnose time  \\\n",
       "0           1    1     0.239113            BC_10              12.633020   \n",
       "1           2    1     1.139550             BC_1              19.486501   \n",
       "2           3    1     1.309831             BC_5              16.161550   \n",
       "3           4    1     1.458689             BC_4              17.991248   \n",
       "4           5    1     1.754376             BC_5              16.736394   \n",
       "\n",
       "  Needs Replacement?  On-site repair time  \n",
       "0                NaN            22.125290  \n",
       "1                yes                  NaN  \n",
       "2                NaN             7.349665  \n",
       "3                NaN            31.835509  \n",
       "4                NaN            10.733933  "
      ]
     },
     "execution_count": 2,
     "metadata": {},
     "output_type": "execute_result"
    }
   ],
   "source": [
    "data = pd.read_csv('TonerItDown.csv', header=0)\n",
    "data.head(5)"
   ]
  },
  {
   "cell_type": "markdown",
   "metadata": {},
   "source": [
    "# Q 5"
   ]
  },
  {
   "cell_type": "code",
   "execution_count": 3,
   "metadata": {},
   "outputs": [
    {
     "data": {
      "text/plain": [
       "array(['BC_10', 'BC_1', 'BC_5', 'BC_4', 'BC_9', 'BC_6', 'BC_8', 'BC_3',\n",
       "       'BC_7', 'BC_2'], dtype=object)"
      ]
     },
     "execution_count": 3,
     "metadata": {},
     "output_type": "execute_result"
    }
   ],
   "source": [
    "data['Request location'].unique()"
   ]
  },
  {
   "cell_type": "code",
   "execution_count": 4,
   "metadata": {},
   "outputs": [],
   "source": [
    "data['o_BC_1'] = (data['Request location'] == 'BC_1').astype(int)\n",
    "data['o_BC_2'] = (data['Request location'] == 'BC_2').astype(int)\n",
    "data['o_BC_3'] = (data['Request location'] == 'BC_3').astype(int)\n",
    "data['o_BC_4'] = (data['Request location'] == 'BC_4').astype(int)\n",
    "data['o_BC_5'] = (data['Request location'] == 'BC_5').astype(int)\n",
    "data['o_BC_6'] = (data['Request location'] == 'BC_6').astype(int)\n",
    "data['o_BC_7'] = (data['Request location'] == 'BC_7').astype(int)\n",
    "data['o_BC_8'] = (data['Request location'] == 'BC_8').astype(int)\n",
    "data['o_BC_9'] = (data['Request location'] == 'BC_9').astype(int)\n",
    "data['o_BC_10'] = (data['Request location'] == 'BC_10').astype(int)"
   ]
  },
  {
   "cell_type": "code",
   "execution_count": 5,
   "metadata": {},
   "outputs": [],
   "source": [
    "def get_conf(x):\n",
    "    m = len(x)\n",
    "    avg = np.mean(x)\n",
    "    LB = avg - st.norm.ppf(0.975)*np.sqrt(np.var(x, ddof=1)/m)\n",
    "    UB = avg + st.norm.ppf(0.975)*np.sqrt(np.var(x, ddof=1)/m)\n",
    "    return avg, LB, UB"
   ]
  },
  {
   "cell_type": "code",
   "execution_count": 6,
   "metadata": {},
   "outputs": [
    {
     "name": "stdout",
     "output_type": "stream",
     "text": [
      "Below are the (Mean, LB, UB) for each Location\n",
      "BC1 (0.039459007250418295, 0.034953027258082144, 0.043964987242754446)\n",
      "BC2 (0.0822643614054657, 0.07590486254733364, 0.08862386026359775)\n",
      "BC3 (0.1079196876742889, 0.10073826403251306, 0.11510111131606475)\n",
      "BC4 (0.13552704963747908, 0.12760482913582438, 0.14344927013913378)\n",
      "BC5 (0.11837702175125488, 0.11089991837860799, 0.12585412512390176)\n",
      "BC6 (0.054935861684327944, 0.04966214442666805, 0.060209578941987835)\n",
      "BC7 (0.12367540435025097, 0.11605580037328111, 0.13129500832722082)\n",
      "BC8 (0.057863915225878415, 0.052459870226862756, 0.06326796022489407)\n",
      "BC9 (0.13747908533184608, 0.12950902949162707, 0.1454491411720651)\n",
      "BC10 (0.14249860568878975, 0.13440800150611018, 0.15058920987146932)\n"
     ]
    }
   ],
   "source": [
    "print(\"Below are the (Mean, LB, UB) for each Location\")\n",
    "print(\"BC1\", get_conf(data['o_BC_1'].values))\n",
    "print(\"BC2\", get_conf(data['o_BC_2'].values))\n",
    "print(\"BC3\", get_conf(data['o_BC_3'].values))\n",
    "print(\"BC4\", get_conf(data['o_BC_4'].values))\n",
    "print(\"BC5\", get_conf(data['o_BC_5'].values))\n",
    "print(\"BC6\", get_conf(data['o_BC_6'].values))\n",
    "print(\"BC7\", get_conf(data['o_BC_7'].values))\n",
    "print(\"BC8\", get_conf(data['o_BC_8'].values))\n",
    "print(\"BC9\", get_conf(data['o_BC_9'].values))\n",
    "print(\"BC10\", get_conf(data['o_BC_10'].values))"
   ]
  },
  {
   "cell_type": "markdown",
   "metadata": {},
   "source": [
    "# Q6"
   ]
  },
  {
   "cell_type": "code",
   "execution_count": 54,
   "metadata": {},
   "outputs": [],
   "source": [
    "\n",
    "lambda_ = []\n",
    "for i in range(24):\n",
    "#i = 0\n",
    "    df = data.loc[(data['Time of day'] >= i) & (data['Time of day'] < i+1)]\n",
    "    l = np.mean(df[['Day', 'Time of day']].groupby(['Day']).agg(['count']).values)\n",
    "\n",
    "    #MLE for a stationary poisson process is the mean across all the observations\n",
    "\n",
    "    lambda_.append(l) \n",
    "\n"
   ]
  },
  {
   "cell_type": "code",
   "execution_count": 55,
   "metadata": {},
   "outputs": [
    {
     "data": {
      "text/plain": [
       "[1.3529411764705883,\n",
       " 1.7894736842105263,\n",
       " 1.9574468085106382,\n",
       " 3.1052631578947367,\n",
       " 3.75,\n",
       " 4.95,\n",
       " 5.916666666666667,\n",
       " 6.566666666666666,\n",
       " 7.083333333333333,\n",
       " 7.0,\n",
       " 7.983333333333333,\n",
       " 8.15,\n",
       " 8.15,\n",
       " 7.566666666666666,\n",
       " 7.783333333333333,\n",
       " 7.533333333333333,\n",
       " 6.733333333333333,\n",
       " 6.316666666666666,\n",
       " 5.016666666666667,\n",
       " 4.423728813559322,\n",
       " 3.533333333333333,\n",
       " 2.581818181818182,\n",
       " 1.4772727272727273,\n",
       " 1.5909090909090908]"
      ]
     },
     "execution_count": 55,
     "metadata": {},
     "output_type": "execute_result"
    }
   ],
   "source": [
    "lambda_"
   ]
  },
  {
   "cell_type": "code",
   "execution_count": 42,
   "metadata": {},
   "outputs": [
    {
     "data": {
      "text/plain": [
       "(array([0.00703348, 0.00882633, 0.01448069, 0.02606525, 0.03254708,\n",
       "        0.04054594, 0.05130302, 0.05557827, 0.05888815, 0.0595777 ,\n",
       "        0.06743865, 0.06757656, 0.06812821, 0.06412878, 0.06578371,\n",
       "        0.06081891, 0.05406125, 0.05144093, 0.04123549, 0.03351246,\n",
       "        0.02730645, 0.01668727, 0.00786095, 0.00827468]),\n",
       " array([ 0.04797284,  1.05899275,  2.07001266,  3.08103256,  4.09205247,\n",
       "         5.10307238,  6.11409228,  7.12511219,  8.1361321 ,  9.14715201,\n",
       "        10.15817191, 11.16919182, 12.18021173, 13.19123163, 14.20225154,\n",
       "        15.21327145, 16.22429135, 17.23531126, 18.24633117, 19.25735108,\n",
       "        20.26837098, 21.27939089, 22.2904108 , 23.3014307 , 24.31245061]),\n",
       " <a list of 24 Patch objects>)"
      ]
     },
     "execution_count": 42,
     "metadata": {},
     "output_type": "execute_result"
    },
    {
     "data": {
      "image/png": "[encoded data removed]",
      "text/plain": [
       "<matplotlib.figure.Figure at 0x108a77cf8>"
      ]
     },
     "metadata": {
      "needs_background": "light"
     },
     "output_type": "display_data"
    }
   ],
   "source": [
    "x = np.sort(data['Time of day'].values)\n",
    "plt.hist(x, density = True, bins = 24)"
   ]
  },
  {
   "cell_type": "code",
   "execution_count": 59,
   "metadata": {},
   "outputs": [
    {
     "data": {
      "text/plain": [
       "Text(0.5,0,'time t')"
      ]
     },
     "execution_count": 59,
     "metadata": {},
     "output_type": "execute_result"
    },
    {
     "data": {
      "image/png": "[encoded data removed]",
      "text/plain": [
       "<matplotlib.figure.Figure at 0x109758208>"
      ]
     },
     "metadata": {
      "needs_background": "light"
     },
     "output_type": "display_data"
    }
   ],
   "source": [
    "x = range(1,25)\n",
    "y = lambda_\n",
    "plt.scatter(x,y, c = 'red')\n",
    "plt.title('Value of rate function at time t')\n",
    "plt.xlabel('time t')"
   ]
  },
  {
   "cell_type": "code",
   "execution_count": 57,
   "metadata": {},
   "outputs": [
    {
     "name": "stdout",
     "output_type": "stream",
     "text": [
      "Time Period:  0  -  1  Has value of rate function:  1.3529411764705883\n",
      "Time Period:  1  -  2  Has value of rate function:  1.7894736842105263\n",
      "Time Period:  2  -  3  Has value of rate function:  1.9574468085106382\n",
      "Time Period:  3  -  4  Has value of rate function:  3.1052631578947367\n",
      "Time Period:  4  -  5  Has value of rate function:  3.75\n",
      "Time Period:  5  -  6  Has value of rate function:  4.95\n",
      "Time Period:  6  -  7  Has value of rate function:  5.916666666666667\n",
      "Time Period:  7  -  8  Has value of rate function:  6.566666666666666\n",
      "Time Period:  8  -  9  Has value of rate function:  7.083333333333333\n",
      "Time Period:  9  -  10  Has value of rate function:  7.0\n",
      "Time Period:  10  -  11  Has value of rate function:  7.983333333333333\n",
      "Time Period:  11  -  12  Has value of rate function:  8.15\n",
      "Time Period:  12  -  13  Has value of rate function:  8.15\n",
      "Time Period:  13  -  14  Has value of rate function:  7.566666666666666\n",
      "Time Period:  14  -  15  Has value of rate function:  7.783333333333333\n",
      "Time Period:  15  -  16  Has value of rate function:  7.533333333333333\n",
      "Time Period:  16  -  17  Has value of rate function:  6.733333333333333\n",
      "Time Period:  17  -  18  Has value of rate function:  6.316666666666666\n",
      "Time Period:  18  -  19  Has value of rate function:  5.016666666666667\n",
      "Time Period:  19  -  20  Has value of rate function:  4.423728813559322\n",
      "Time Period:  20  -  21  Has value of rate function:  3.533333333333333\n",
      "Time Period:  21  -  22  Has value of rate function:  2.581818181818182\n",
      "Time Period:  22  -  23  Has value of rate function:  1.4772727272727273\n",
      "Time Period:  23  -  24  Has value of rate function:  1.5909090909090908\n"
     ]
    }
   ],
   "source": [
    "for i in range(24):\n",
    "    print(\"Time Period: \",i,\" - \",i+1, \" Has value of rate function: \", lambda_[i])"
   ]
  },
  {
   "cell_type": "code",
   "execution_count": null,
   "metadata": {},
   "outputs": [],
   "source": []
  }
 ],
 "metadata": {
  "kernelspec": {
   "display_name": "Python 3",
   "language": "python",
   "name": "python3"
  },
  "language_info": {
   "codemirror_mode": {
    "name": "ipython",
    "version": 3
   },
   "file_extension": ".py",
   "mimetype": "text/x-python",
   "name": "python",
   "nbconvert_exporter": "python",
   "pygments_lexer": "ipython3",
   "version": "3.7.3"
  }
 },
 "nbformat": 4,
 "nbformat_minor": 2
}
